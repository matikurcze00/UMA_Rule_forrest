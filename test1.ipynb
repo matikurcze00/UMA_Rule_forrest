{
 "cells": [
  {
   "cell_type": "code",
   "execution_count": 289,
   "metadata": {
    "tags": []
   },
   "outputs": [
    {
     "name": "stdout",
     "output_type": "stream",
     "text": [
      "['29', '1', '1', '130', '204', '0', '0', '202', '0', '0', '2', '0', '2', '1']\n",
      "['40', '1', '3', '140', '199', '0', '1', '178', '1', '1.4', '2', '0', '3', '1']\n",
      "['41', '0', '1', '105', '198', '0', '1', '168', '0', '0', '2', '1', '2', '1']\n",
      "['41', '1', '0', '110', '172', '0', '0', '158', '0', '0', '2', '0', '3', '0']\n",
      "['41', '1', '1', '120', '157', '0', '1', '182', '0', '0', '2', '0', '2', '1']\n",
      "['41', '1', '1', '135', '203', '0', '1', '132', '0', '0', '1', '0', '1', '1']\n",
      "['42', '0', '0', '102', '265', '0', '0', '122', '0', '0.6', '1', '0', '2', '1']\n",
      "['42', '1', '1', '120', '295', '0', '1', '162', '0', '0', '2', '0', '2', '1']\n",
      "['43', '1', '0', '115', '303', '0', '1', '181', '0', '1.2', '1', '0', '2', '1']\n",
      "['43', '1', '0', '150', '247', '0', '1', '171', '0', '1.5', '2', '0', '2', '1']\n",
      "['44', '1', '0', '120', '169', '0', '1', '144', '1', '2.8', '0', '0', '1', '0']\n",
      "['44', '1', '2', '130', '233', '0', '1', '179', '1', '0.4', '2', '0', '2', '1']\n",
      "['45', '1', '0', '104', '208', '0', '0', '148', '1', '3', '1', '0', '2', '1']\n",
      "['45', '1', '0', '115', '260', '0', '0', '185', '0', '0', '2', '0', '2', '1']\n",
      "['45', '1', '0', '142', '309', '0', '0', '147', '1', '0', '1', '3', '3', '0']\n",
      "['45', '1', '1', '128', '308', '0', '0', '170', '0', '0', '2', '0', '2', '1']\n",
      "['46', '1', '0', '120', '249', '0', '0', '144', '0', '0.8', '2', '0', '3', '0']\n",
      "['46', '1', '0', '140', '311', '0', '1', '120', '1', '1.8', '1', '2', '3', '0']\n",
      "['46', '1', '1', '101', '197', '1', '1', '156', '0', '0', '2', '0', '3', '1']\n",
      "['47', '1', '0', '112', '204', '0', '1', '143', '0', '0.1', '2', '0', '2', '1']\n",
      "['47', '1', '2', '130', '253', '0', '1', '179', '0', '0', '2', '0', '2', '1']\n",
      "['48', '1', '0', '130', '256', '1', '0', '150', '1', '0', '2', '2', '3', '0']\n",
      "['48', '1', '1', '110', '229', '0', '1', '168', '0', '1', '0', '0', '3', '0']\n",
      "['48', '1', '2', '124', '255', '1', '1', '175', '0', '0', '2', '2', '2', '1']\n",
      "['49', '0', '0', '130', '269', '0', '1', '163', '0', '0', '2', '0', '2', '1']\n",
      "['49', '1', '1', '130', '266', '0', '1', '171', '0', '0.6', '2', '0', '2', '1']\n",
      "['49', '1', '2', '118', '149', '0', '0', '126', '0', '0.8', '2', '3', '2', '0']\n",
      "['50', '0', '1', '120', '244', '0', '1', '162', '0', '1.1', '2', '0', '2', '1']\n",
      "['50', '0', '2', '120', '219', '0', '1', '158', '0', '1.6', '1', '0', '2', '1']\n",
      "['51', '1', '2', '100', '222', '0', '1', '143', '1', '1.2', '1', '0', '2', '1']\n",
      "['51', '1', '2', '110', '175', '0', '1', '123', '0', '0.6', '2', '0', '2', '1']\n",
      "['52', '1', '0', '112', '230', '0', '1', '160', '0', '0', '2', '1', '2', '0']\n",
      "['52', '1', '1', '120', '325', '0', '1', '172', '0', '0.2', '2', '0', '2', '1']\n",
      "['52', '1', '1', '128', '205', '1', '1', '184', '0', '0', '2', '0', '2', '1']\n",
      "['53', '0', '2', '128', '216', '0', '0', '115', '0', '0', '2', '0', '0', '1']\n",
      "['53', '1', '2', '130', '246', '1', '0', '173', '0', '0', '2', '3', '2', '1']\n",
      "['54', '0', '1', '132', '288', '1', '0', '159', '1', '0', '2', '1', '2', '1']\n",
      "['54', '0', '2', '108', '267', '0', '0', '167', '0', '0', '2', '0', '2', '1']\n",
      "['54', '0', '2', '135', '304', '1', '1', '170', '0', '0', '2', '0', '2', '1']\n",
      "['54', '1', '0', '110', '206', '0', '0', '108', '1', '0', '1', '1', '2', '0']\n",
      "['54', '1', '0', '120', '188', '0', '1', '113', '0', '1.4', '1', '1', '3', '0']\n",
      "['54', '1', '2', '125', '273', '0', '0', '152', '0', '0.5', '0', '1', '2', '1']\n",
      "['55', '0', '1', '135', '250', '0', '0', '161', '0', '1.4', '1', '0', '2', '1']\n",
      "['55', '1', '0', '132', '353', '0', '1', '132', '1', '1.2', '1', '1', '3', '0']\n",
      "['55', '1', '1', '130', '262', '0', '1', '155', '0', '0', '2', '0', '2', '1']\n",
      "['56', '0', '0', '134', '409', '0', '0', '150', '1', '1.9', '1', '2', '3', '0']\n",
      "['56', '0', '1', '140', '294', '0', '0', '153', '0', '1.3', '1', '0', '2', '1']\n",
      "['56', '1', '1', '120', '236', '0', '1', '178', '0', '0.8', '2', '0', '2', '1']\n",
      "['56', '1', '1', '130', '221', '0', '0', '163', '0', '0', '2', '0', '3', '1']\n",
      "['56', '1', '3', '120', '193', '0', '0', '162', '0', '1.9', '1', '0', '3', '1']\n",
      "['57', '1', '0', '110', '201', '0', '1', '126', '1', '1.5', '1', '0', '1', '1']\n",
      "['57', '1', '0', '110', '335', '0', '1', '143', '1', '3', '1', '1', '3', '0']\n",
      "['57', '1', '0', '152', '274', '0', '1', '88', '1', '1.2', '1', '1', '3', '0']\n",
      "['57', '1', '0', '165', '289', '1', '0', '124', '0', '1', '1', '3', '3', '0']\n",
      "['57', '1', '2', '128', '229', '0', '0', '150', '0', '0.4', '1', '1', '3', '0']\n",
      "['57', '1', '2', '150', '126', '1', '1', '173', '0', '0.2', '2', '1', '3', '1']\n",
      "['57', '1', '2', '150', '168', '0', '1', '174', '0', '1.6', '2', '0', '2', '1']\n",
      "['58', '1', '0', '100', '234', '0', '1', '156', '0', '0.1', '2', '1', '3', '0']\n",
      "['58', '1', '0', '114', '318', '0', '2', '140', '0', '4.4', '0', '3', '1', '0']\n",
      "['58', '1', '0', '146', '218', '0', '1', '105', '0', '2', '1', '1', '3', '0']\n",
      "['58', '1', '2', '112', '230', '0', '0', '165', '0', '2.5', '1', '1', '3', '0']\n",
      "['59', '1', '0', '164', '176', '1', '0', '90', '0', '1', '1', '2', '1', '0']\n",
      "['59', '1', '0', '170', '326', '0', '0', '140', '1', '3.4', '0', '0', '3', '0']\n",
      "['59', '1', '2', '126', '218', '1', '1', '134', '0', '2.2', '1', '1', '1', '0']\n",
      "['59', '1', '3', '170', '288', '0', '0', '159', '0', '0.2', '1', '0', '3', '0']\n",
      "['60', '0', '0', '150', '258', '0', '0', '157', '0', '2.6', '1', '2', '3', '0']\n",
      "['60', '0', '3', '150', '240', '0', '1', '171', '0', '0.9', '2', '0', '2', '1']\n",
      "['60', '1', '0', '125', '258', '0', '0', '141', '1', '2.8', '1', '1', '3', '0']\n",
      "['60', '1', '0', '130', '206', '0', '0', '132', '1', '2.4', '1', '2', '3', '0']\n",
      "['60', '1', '0', '130', '253', '0', '1', '144', '1', '1.4', '2', '1', '3', '0']\n",
      "['60', '1', '0', '140', '293', '0', '0', '170', '0', '1.2', '1', '2', '3', '0']\n",
      "['61', '0', '0', '145', '307', '0', '0', '146', '1', '1', '1', '0', '3', '0']\n",
      "['61', '1', '0', '138', '166', '0', '0', '125', '1', '3.6', '1', '1', '2', '0']\n",
      "['62', '0', '0', '124', '209', '0', '1', '163', '0', '0', '2', '0', '2', '1']\n",
      "['62', '0', '0', '138', '294', '1', '1', '106', '0', '1.9', '1', '3', '2', '0']\n",
      "['62', '0', '0', '140', '394', '0', '0', '157', '0', '1.2', '1', '0', '2', '1']\n",
      "['62', '0', '0', '150', '244', '0', '1', '154', '1', '1.4', '1', '0', '2', '0']\n",
      "['62', '0', '0', '160', '164', '0', '0', '145', '0', '6.2', '0', '3', '3', '0']\n",
      "['62', '0', '2', '130', '263', '0', '1', '97', '0', '1.2', '1', '1', '3', '0']\n",
      "['62', '1', '0', '120', '267', '0', '1', '99', '1', '1.8', '1', '2', '3', '0']\n",
      "['63', '0', '1', '140', '195', '0', '1', '179', '0', '0', '2', '2', '2', '1']\n",
      "['63', '0', '2', '135', '252', '0', '0', '172', '0', '0', '2', '0', '2', '1']\n",
      "['63', '1', '0', '130', '254', '0', '0', '147', '0', '1.4', '1', '1', '3', '0']\n",
      "['63', '1', '3', '145', '233', '1', '0', '150', '0', '2.3', '0', '0', '1', '1']\n",
      "['64', '0', '0', '130', '303', '0', '1', '122', '0', '2', '1', '2', '2', '1']\n",
      "['64', '1', '2', '140', '335', '0', '1', '158', '0', '0', '2', '0', '2', '0']\n",
      "['65', '0', '2', '160', '360', '0', '0', '151', '0', '0.8', '2', '0', '2', '1']\n",
      "['65', '1', '3', '138', '282', '1', '0', '174', '0', '1.4', '1', '1', '2', '0']\n",
      "['66', '0', '2', '146', '278', '0', '0', '152', '0', '0', '1', '1', '2', '1']\n",
      "['66', '1', '0', '120', '302', '0', '0', '151', '0', '0.4', '1', '0', '2', '1']\n",
      "['66', '1', '0', '160', '228', '0', '0', '138', '0', '2.3', '2', '0', '1', '1']\n",
      "['67', '1', '0', '160', '286', '0', '0', '108', '1', '1.5', '1', '3', '2', '0']\n",
      "['68', '0', '2', '120', '211', '0', '0', '115', '0', '1.5', '1', '0', '2', '1']\n",
      "['68', '1', '0', '144', '193', '1', '1', '141', '0', '3.4', '1', '2', '3', '0']\n",
      "['69', '1', '2', '140', '254', '0', '0', '146', '0', '2', '1', '3', '3', '0']\n",
      "['70', '1', '0', '130', '322', '0', '0', '109', '0', '2.4', '1', '3', '2', '0']\n",
      "['70', '1', '0', '145', '174', '0', '1', '125', '1', '2.6', '0', '0', '3', '0']\n",
      "['70', '1', '2', '160', '269', '0', '1', '112', '1', '2.9', '1', '1', '3', '0']\n",
      "['71', '0', '2', '110', '265', '1', '0', '130', '0', '0', '2', '1', '2', '1']\n",
      "['74', '0', '1', '120', '269', '0', '0', '121', '1', '0.2', '2', '1', '2', '1']\n",
      "['76', '0', '2', '140', '197', '0', '2', '116', '0', '1.1', '1', '0', '2', '1']\n"
     ]
    }
   ],
   "source": [
    "import csv\n",
    "training_data = []\n",
    "with open('heart_train.csv', newline='') as csvfile:\n",
    "    reader = csv.reader(csvfile)\n",
    "    header = next(reader)\n",
    "    for row in reader:\n",
    "        training_data.append(row)\n",
    "\n",
    "for row in training_data:\n",
    "    print(row)\n",
    "        \n",
    "\n"
   ]
  },
  {
   "cell_type": "code",
   "execution_count": 264,
   "metadata": {},
   "outputs": [],
   "source": [
    "# For Python 2 / 3 compatability\n",
    "from __future__ import print_function\n"
   ]
  },
  {
   "cell_type": "code",
   "execution_count": 265,
   "metadata": {},
   "outputs": [],
   "source": [
    "def unique_vals(rows, col):\n",
    "    \"\"\"Find the unique values for a column in a dataset.\"\"\"\n",
    "    return set([row[col] for row in rows])"
   ]
  },
  {
   "cell_type": "code",
   "execution_count": 266,
   "metadata": {},
   "outputs": [],
   "source": [
    "def class_counts(rows):\n",
    "    \"\"\"Counts the number of each type of example in a dataset.\"\"\"\n",
    "    counts = {}  # a dictionary of label -> count.\n",
    "    for row in rows:\n",
    "        # in our dataset format, the label is always the last column\n",
    "        label = row[-1]\n",
    "        if label not in counts:\n",
    "            counts[label] = 0\n",
    "        counts[label] += 1\n",
    "    return counts"
   ]
  },
  {
   "cell_type": "code",
   "execution_count": 267,
   "metadata": {},
   "outputs": [],
   "source": [
    "def is_numeric(value):\n",
    "    \"\"\"Test if a value is numeric.\"\"\"\n",
    "    return isinstance(value, int) or isinstance(value, float)"
   ]
  },
  {
   "cell_type": "code",
   "execution_count": 268,
   "metadata": {},
   "outputs": [],
   "source": [
    "class Question:\n",
    "    \"\"\"A Question is used to partition a dataset.\n",
    "\n",
    "    This class just records a 'column number' (e.g., 0 for Color) and a\n",
    "    'column value' (e.g., Green). The 'match' method is used to compare\n",
    "    the feature value in an example to the feature value stored in the\n",
    "    question. See the demo below.\n",
    "    \"\"\"\n",
    "\n",
    "    def __init__(self, question_column, question_value, question_header):\n",
    "        self.column = question_column\n",
    "        self.value = question_value\n",
    "        self.q_header = question_header\n",
    "\n",
    "    def match(self, example):\n",
    "        # Compare the feature value in an example to the\n",
    "        # feature value in this question.\n",
    "        val = example[self.column]\n",
    "        if is_numeric(val):\n",
    "            return val >= self.value\n",
    "        else:\n",
    "            return val == self.value\n",
    "\n",
    "    def __repr__(self):\n",
    "        # This is just a helper method to print\n",
    "        # the question in a readable format.\n",
    "        condition = \"==\"\n",
    "        if is_numeric(self.value):\n",
    "            condition = \">=\"\n",
    "        return \"Is %s %s %s?\" % (\n",
    "            self.q_header[self.column], condition, str(self.value))"
   ]
  },
  {
   "cell_type": "code",
   "execution_count": 269,
   "metadata": {},
   "outputs": [],
   "source": [
    "def partition(rows, question):\n",
    "    \"\"\"Partitions a dataset.\n",
    "\n",
    "    For each row in the dataset, check if it matches the question. If\n",
    "    so, add it to 'true rows', otherwise, add it to 'false rows'.\n",
    "    \"\"\"\n",
    "    true_rows, false_rows = [], []\n",
    "    for row in rows:\n",
    "        if question.match(row):\n",
    "            true_rows.append(row)\n",
    "        else:\n",
    "            false_rows.append(row)\n",
    "    return true_rows, false_rows"
   ]
  },
  {
   "cell_type": "code",
   "execution_count": 270,
   "metadata": {},
   "outputs": [],
   "source": [
    "def gini(rows):\n",
    "    \"\"\"Calculate the Gini Impurity for a list of rows.\n",
    "\n",
    "    There are a few different ways to do this, I thought this one was\n",
    "    the most concise. See:\n",
    "    https://en.wikipedia.org/wiki/Decision_tree_learning#Gini_impurity\n",
    "    \"\"\"\n",
    "    counts = class_counts(rows)\n",
    "    impurity = 1\n",
    "    for lbl in counts:\n",
    "        prob_of_lbl = counts[lbl] / float(len(rows))\n",
    "        impurity -= prob_of_lbl**2\n",
    "    return impurity"
   ]
  },
  {
   "cell_type": "code",
   "execution_count": 271,
   "metadata": {},
   "outputs": [],
   "source": [
    "def info_gain(left, right, current_uncertainty):\n",
    "    \"\"\"Information Gain.\n",
    "\n",
    "    The uncertainty of the starting node, minus the weighted impurity of\n",
    "    two child nodes.\n",
    "    \"\"\"\n",
    "    p = float(len(left)) / (len(left) + len(right))\n",
    "    return current_uncertainty - p * gini(left) - (1 - p) * gini(right)"
   ]
  },
  {
   "cell_type": "code",
   "execution_count": 272,
   "metadata": {},
   "outputs": [],
   "source": [
    "def find_best_split(rows, new_header):\n",
    "    \"\"\"Find the best question to ask by iterating over every feature / value\n",
    "    and calculating the information gain.\"\"\"\n",
    "    best_gain = 0  # keep track of the best information gain\n",
    "    best_question = None  # keep train of the feature / value that produced it\n",
    "    current_uncertainty = gini(rows)\n",
    "    n_features = len(new_header) - 1  # number of columns\n",
    "\n",
    "    for col in range(n_features):  # for each feature\n",
    "\n",
    "        values = set([row[col] for row in rows])  # unique values in the column\n",
    "\n",
    "        for val in values:  # for each value\n",
    "\n",
    "            question = Question(col, val, new_header)\n",
    "\n",
    "            # try splitting the dataset\n",
    "            true_rows, false_rows = partition(rows, question)\n",
    "\n",
    "            # Skip this split if it doesn't divide the\n",
    "            # dataset.\n",
    "            if len(true_rows) == 0 or len(false_rows) == 0:\n",
    "                continue\n",
    "\n",
    "            # Calculate the information gain from this split\n",
    "            gain = info_gain(true_rows, false_rows, current_uncertainty)\n",
    "\n",
    "            # You actually can use '>' instead of '>=' here\n",
    "            # but I wanted the tree to look a certain way for our\n",
    "            # toy dataset.\n",
    "            if gain >= best_gain:\n",
    "                best_gain, best_question = gain, question\n",
    "\n",
    "    return best_gain, best_question"
   ]
  },
  {
   "cell_type": "code",
   "execution_count": 273,
   "metadata": {},
   "outputs": [],
   "source": [
    "class Leaf:\n",
    "    \"\"\"A Leaf node classifies data.\n",
    "\n",
    "    This holds a dictionary of class (e.g., \"Apple\") -> number of times\n",
    "    it appears in the rows from the training data that reach this leaf.\n",
    "    \"\"\"\n",
    "\n",
    "    def __init__(self, rows):\n",
    "        self.predictions = class_counts(rows)"
   ]
  },
  {
   "cell_type": "code",
   "execution_count": 274,
   "metadata": {},
   "outputs": [],
   "source": [
    "class Decision_Node:\n",
    "    \"\"\"A Decision Node asks a question.\n",
    "\n",
    "    This holds a reference to the question, and to the two child nodes.\n",
    "    \"\"\"\n",
    "\n",
    "    def __init__(self,\n",
    "                 question,\n",
    "                 true_branch,\n",
    "                 false_branch):\n",
    "        self.question = question\n",
    "        self.true_branch = true_branch\n",
    "        self.false_branch = false_branch"
   ]
  },
  {
   "cell_type": "code",
   "execution_count": 275,
   "metadata": {},
   "outputs": [],
   "source": [
    "def build_tree(rows, new_header):\n",
    "    \"\"\"Builds the tree.\n",
    "\n",
    "    Rules of recursion: 1) Believe that it works. 2) Start by checking\n",
    "    for the base case (no further information gain). 3) Prepare for\n",
    "    giant stack traces.\n",
    "    \"\"\"\n",
    "\n",
    "    # Try partitioing the dataset on each of the unique attribute,\n",
    "    # calculate the information gain,\n",
    "    # and return the question that produces the highest gain.\n",
    "    gain, question = find_best_split(rows,new_header)\n",
    "\n",
    "    # Base case: no further info gain\n",
    "    # Since we can ask no further questions,\n",
    "    # we'll return a leaf.\n",
    "    if gain == 0:\n",
    "        return Leaf(rows)\n",
    "\n",
    "    # If we reach here, we have found a useful feature / value\n",
    "    # to partition on.\n",
    "    true_rows, false_rows = partition(rows, question)\n",
    "\n",
    "    # Recursively build the true branch.\n",
    "    true_branch = build_tree(true_rows, new_header)\n",
    "\n",
    "    # Recursively build the false branch.\n",
    "    false_branch = build_tree(false_rows, new_header)\n",
    "\n",
    "    # Return a Question node.\n",
    "    # This records the best feature / value to ask at this point,\n",
    "    # as well as the branches to follow\n",
    "    # dependingo on the answer.\n",
    "    return Decision_Node(question, true_branch, false_branch)"
   ]
  },
  {
   "cell_type": "code",
   "execution_count": 276,
   "metadata": {},
   "outputs": [],
   "source": [
    "def print_tree(node, spacing=\"\"):\n",
    "    \"\"\"World's most elegant tree printing function.\"\"\"\n",
    "\n",
    "    # Base case: we've reached a leaf\n",
    "    if isinstance(node, Leaf):\n",
    "        print (spacing + \"Predict\", node.predictions)\n",
    "        return\n",
    "\n",
    "    # Print the question at this node\n",
    "    print (spacing + str(node.question))\n",
    "\n",
    "    # Call this function recursively on the true branch\n",
    "    print (spacing + '--> True:')\n",
    "    print_tree(node.true_branch, spacing + \"  \")\n",
    "\n",
    "    # Call this function recursively on the false branch\n",
    "    print (spacing + '--> False:')\n",
    "    print_tree(node.false_branch, spacing + \"  \")"
   ]
  },
  {
   "cell_type": "code",
   "execution_count": 310,
   "metadata": {},
   "outputs": [
    {
     "ename": "IndexError",
     "evalue": "list index out of range",
     "output_type": "error",
     "traceback": [
      "\u001b[1;31m---------------------------------------------------------------------------\u001b[0m",
      "\u001b[1;31mIndexError\u001b[0m                                Traceback (most recent call last)",
      "\u001b[1;32m~\\AppData\\Local\\Temp/ipykernel_15296/35438845.py\u001b[0m in \u001b[0;36m<module>\u001b[1;34m\u001b[0m\n\u001b[1;32m----> 1\u001b[1;33m \u001b[0mmy_tree\u001b[0m \u001b[1;33m=\u001b[0m \u001b[0mbuild_tree\u001b[0m\u001b[1;33m(\u001b[0m\u001b[0mtraining_data\u001b[0m\u001b[1;33m,\u001b[0m \u001b[0mheader\u001b[0m\u001b[1;33m)\u001b[0m\u001b[1;33m\u001b[0m\u001b[1;33m\u001b[0m\u001b[0m\n\u001b[0m",
      "\u001b[1;32m~\\AppData\\Local\\Temp/ipykernel_15296/3577714991.py\u001b[0m in \u001b[0;36mbuild_tree\u001b[1;34m(rows, new_header)\u001b[0m\n\u001b[0;32m     10\u001b[0m     \u001b[1;31m# calculate the information gain,\u001b[0m\u001b[1;33m\u001b[0m\u001b[1;33m\u001b[0m\u001b[0m\n\u001b[0;32m     11\u001b[0m     \u001b[1;31m# and return the question that produces the highest gain.\u001b[0m\u001b[1;33m\u001b[0m\u001b[1;33m\u001b[0m\u001b[0m\n\u001b[1;32m---> 12\u001b[1;33m     \u001b[0mgain\u001b[0m\u001b[1;33m,\u001b[0m \u001b[0mquestion\u001b[0m \u001b[1;33m=\u001b[0m \u001b[0mfind_best_split\u001b[0m\u001b[1;33m(\u001b[0m\u001b[0mrows\u001b[0m\u001b[1;33m,\u001b[0m\u001b[0mnew_header\u001b[0m\u001b[1;33m)\u001b[0m\u001b[1;33m\u001b[0m\u001b[1;33m\u001b[0m\u001b[0m\n\u001b[0m\u001b[0;32m     13\u001b[0m \u001b[1;33m\u001b[0m\u001b[0m\n\u001b[0;32m     14\u001b[0m     \u001b[1;31m# Base case: no further info gain\u001b[0m\u001b[1;33m\u001b[0m\u001b[1;33m\u001b[0m\u001b[0m\n",
      "\u001b[1;32m~\\AppData\\Local\\Temp/ipykernel_15296/2724522994.py\u001b[0m in \u001b[0;36mfind_best_split\u001b[1;34m(rows, new_header)\u001b[0m\n\u001b[0;32m      9\u001b[0m     \u001b[1;32mfor\u001b[0m \u001b[0mcol\u001b[0m \u001b[1;32min\u001b[0m \u001b[0mrange\u001b[0m\u001b[1;33m(\u001b[0m\u001b[0mn_features\u001b[0m\u001b[1;33m)\u001b[0m\u001b[1;33m:\u001b[0m  \u001b[1;31m# for each feature\u001b[0m\u001b[1;33m\u001b[0m\u001b[1;33m\u001b[0m\u001b[0m\n\u001b[0;32m     10\u001b[0m \u001b[1;33m\u001b[0m\u001b[0m\n\u001b[1;32m---> 11\u001b[1;33m         \u001b[0mvalues\u001b[0m \u001b[1;33m=\u001b[0m \u001b[0mset\u001b[0m\u001b[1;33m(\u001b[0m\u001b[1;33m[\u001b[0m\u001b[0mrow\u001b[0m\u001b[1;33m[\u001b[0m\u001b[0mcol\u001b[0m\u001b[1;33m]\u001b[0m \u001b[1;32mfor\u001b[0m \u001b[0mrow\u001b[0m \u001b[1;32min\u001b[0m \u001b[0mrows\u001b[0m\u001b[1;33m]\u001b[0m\u001b[1;33m)\u001b[0m  \u001b[1;31m# unique values in the column\u001b[0m\u001b[1;33m\u001b[0m\u001b[1;33m\u001b[0m\u001b[0m\n\u001b[0m\u001b[0;32m     12\u001b[0m \u001b[1;33m\u001b[0m\u001b[0m\n\u001b[0;32m     13\u001b[0m         \u001b[1;32mfor\u001b[0m \u001b[0mval\u001b[0m \u001b[1;32min\u001b[0m \u001b[0mvalues\u001b[0m\u001b[1;33m:\u001b[0m  \u001b[1;31m# for each value\u001b[0m\u001b[1;33m\u001b[0m\u001b[1;33m\u001b[0m\u001b[0m\n",
      "\u001b[1;32m~\\AppData\\Local\\Temp/ipykernel_15296/2724522994.py\u001b[0m in \u001b[0;36m<listcomp>\u001b[1;34m(.0)\u001b[0m\n\u001b[0;32m      9\u001b[0m     \u001b[1;32mfor\u001b[0m \u001b[0mcol\u001b[0m \u001b[1;32min\u001b[0m \u001b[0mrange\u001b[0m\u001b[1;33m(\u001b[0m\u001b[0mn_features\u001b[0m\u001b[1;33m)\u001b[0m\u001b[1;33m:\u001b[0m  \u001b[1;31m# for each feature\u001b[0m\u001b[1;33m\u001b[0m\u001b[1;33m\u001b[0m\u001b[0m\n\u001b[0;32m     10\u001b[0m \u001b[1;33m\u001b[0m\u001b[0m\n\u001b[1;32m---> 11\u001b[1;33m         \u001b[0mvalues\u001b[0m \u001b[1;33m=\u001b[0m \u001b[0mset\u001b[0m\u001b[1;33m(\u001b[0m\u001b[1;33m[\u001b[0m\u001b[0mrow\u001b[0m\u001b[1;33m[\u001b[0m\u001b[0mcol\u001b[0m\u001b[1;33m]\u001b[0m \u001b[1;32mfor\u001b[0m \u001b[0mrow\u001b[0m \u001b[1;32min\u001b[0m \u001b[0mrows\u001b[0m\u001b[1;33m]\u001b[0m\u001b[1;33m)\u001b[0m  \u001b[1;31m# unique values in the column\u001b[0m\u001b[1;33m\u001b[0m\u001b[1;33m\u001b[0m\u001b[0m\n\u001b[0m\u001b[0;32m     12\u001b[0m \u001b[1;33m\u001b[0m\u001b[0m\n\u001b[0;32m     13\u001b[0m         \u001b[1;32mfor\u001b[0m \u001b[0mval\u001b[0m \u001b[1;32min\u001b[0m \u001b[0mvalues\u001b[0m\u001b[1;33m:\u001b[0m  \u001b[1;31m# for each value\u001b[0m\u001b[1;33m\u001b[0m\u001b[1;33m\u001b[0m\u001b[0m\n",
      "\u001b[1;31mIndexError\u001b[0m: list index out of range"
     ]
    }
   ],
   "source": [
    "my_tree = build_tree(training_data, header)"
   ]
  },
  {
   "cell_type": "code",
   "execution_count": 278,
   "metadata": {},
   "outputs": [
    {
     "name": "stdout",
     "output_type": "stream",
     "text": [
      "Is thall == 3?\n",
      "--> True:\n",
      "  Is cp == 0?\n",
      "  --> True:\n",
      "    Predict {'0': 25}\n",
      "  --> False:\n",
      "    Is slp == 2?\n",
      "    --> True:\n",
      "      Predict {'1': 4}\n",
      "    --> False:\n",
      "      Is oldpeak == 1.9?\n",
      "      --> True:\n",
      "        Predict {'1': 1}\n",
      "      --> False:\n",
      "        Predict {'0': 7}\n",
      "--> False:\n",
      "  Is caa == 0?\n",
      "  --> True:\n",
      "    Is oldpeak == 2.8?\n",
      "    --> True:\n",
      "      Predict {'0': 1}\n",
      "    --> False:\n",
      "      Is thalachh == 154?\n",
      "      --> True:\n",
      "        Predict {'0': 1}\n",
      "      --> False:\n",
      "        Is chol == 335?\n",
      "        --> True:\n",
      "          Predict {'0': 1}\n",
      "        --> False:\n",
      "          Predict {'1': 40}\n",
      "  --> False:\n",
      "    Is cp == 0?\n",
      "    --> True:\n",
      "      Is oldpeak == 2?\n",
      "      --> True:\n",
      "        Predict {'1': 1}\n",
      "      --> False:\n",
      "        Predict {'0': 8}\n",
      "    --> False:\n",
      "      Is oldpeak == 0?\n",
      "      --> True:\n",
      "        Predict {'1': 7}\n",
      "      --> False:\n",
      "        Is slp == 1?\n",
      "        --> True:\n",
      "          Predict {'0': 2}\n",
      "        --> False:\n",
      "          Is caa == 3?\n",
      "          --> True:\n",
      "            Predict {'0': 1}\n",
      "          --> False:\n",
      "            Predict {'1': 2}\n"
     ]
    }
   ],
   "source": [
    "print_tree(my_tree)"
   ]
  },
  {
   "cell_type": "code",
   "execution_count": 279,
   "metadata": {},
   "outputs": [],
   "source": [
    "def classify(row, node):\n",
    "    \"\"\"See the 'rules of recursion' above.\"\"\"\n",
    "\n",
    "    # Base case: we've reached a leaf\n",
    "    if isinstance(node, Leaf):\n",
    "        return node.predictions\n",
    "\n",
    "    # Decide whether to follow the true-branch or the false-branch.\n",
    "    # Compare the feature / value stored in the node,\n",
    "    # to the example we're considering.\n",
    "    if node.question.match(row):\n",
    "        return classify(row, node.true_branch)\n",
    "    else:\n",
    "        return classify(row, node.false_branch)"
   ]
  },
  {
   "cell_type": "code",
   "execution_count": 280,
   "metadata": {},
   "outputs": [],
   "source": [
    "def print_leaf(counts):\n",
    "    \"\"\"A nicer way to print the predictions at a leaf.\"\"\"\n",
    "    total = sum(counts.values()) * 1.0\n",
    "    probs = {}\n",
    "    for lbl in counts.keys():\n",
    "        probs[lbl] = str(int(counts[lbl] / total * 100)) + \"%\"\n",
    "    return probs"
   ]
  },
  {
   "cell_type": "code",
   "execution_count": 281,
   "metadata": {},
   "outputs": [
    {
     "name": "stdout",
     "output_type": "stream",
     "text": [
      "202\n"
     ]
    }
   ],
   "source": [
    "testing_data = []\n",
    "with open('heart_test.csv', newline='') as csvfile:\n",
    "    reader = csv.reader(csvfile)\n",
    "\n",
    "    for row in reader:\n",
    "        testing_data.append(row)\n",
    "print(len(testing_data))"
   ]
  },
  {
   "cell_type": "code",
   "execution_count": 286,
   "metadata": {},
   "outputs": [
    {
     "name": "stdout",
     "output_type": "stream",
     "text": [
      "160\n",
      "42\n"
     ]
    }
   ],
   "source": [
    "good = 0\n",
    "wrong = 0\n",
    "for row in testing_data:\n",
    "    if '0' in print_leaf(classify(row, my_tree)):\n",
    "        value = 0\n",
    "    else:\n",
    "        value = 1\n",
    "    if row[-1]==str(value):\n",
    "        good = good + 1\n",
    "    else:\n",
    "        wrong = wrong +1\n",
    "\n",
    "print(good)\n",
    "print(wrong)"
   ]
  },
  {
   "cell_type": "code",
   "execution_count": 283,
   "metadata": {},
   "outputs": [],
   "source": [
    "import random\n",
    "def Reg_Tree(data, header, training_size, tree_arg):\n",
    "  new_header = []\n",
    "  for head in header:\n",
    "    new_header.append(head)\n",
    "  arg_len=len(data[1])\n",
    "  new_training=[]\n",
    "  for size_n in range(training_size):\n",
    "      row = random.randint(0, len(data)-size_n)\n",
    "      new_training.append(data[row])\n",
    "  arg_to_delete = random.sample(range(arg_len-1),tree_arg)\n",
    "  arg_to_delete.sort(reverse=True)\n",
    "  for column in arg_to_delete:\n",
    "      del new_header[column]\n",
    "  for training_row in new_training:\n",
    "      for column in arg_to_delete:\n",
    "          del training_row[column]\n",
    "  one_tree = build_tree(new_training, new_header)\n",
    "  return one_tree\n",
    "  \n",
    "    "
   ]
  },
  {
   "cell_type": "code",
   "execution_count": 313,
   "metadata": {},
   "outputs": [
    {
     "name": "stdout",
     "output_type": "stream",
     "text": [
      "['age', 'sex', 'cp', 'trtbps', 'chol', 'fbs', 'restecg', 'thalachh', 'exng', 'oldpeak', 'slp', 'caa', 'thall', 'output']\n"
     ]
    }
   ],
   "source": [
    "Tree = Reg_Tree(training_data, header, 50, 2)\n"
   ]
  },
  {
   "cell_type": "code",
   "execution_count": null,
   "metadata": {},
   "outputs": [
    {
     "name": "stdout",
     "output_type": "stream",
     "text": [
      "14\n",
      "['age', 'sex', 'cp', 'trtbps', 'chol', 'fbs', 'restecg', 'thalachh', 'exng', 'oldpeak', 'slp', 'caa', 'thall', 'output']\n",
      "['40', '1', '3', '140', '199', '0', '1', '178', '1', '1.4', '2', '0', '3', '1']\n",
      "14\n"
     ]
    }
   ],
   "source": [
    "print(len(header))\n",
    "print(header)\n",
    "print(training_data[1])\n",
    "print(len(training_data[1]))"
   ]
  },
  {
   "cell_type": "code",
   "execution_count": null,
   "metadata": {},
   "outputs": [],
   "source": [
    "def Reg_Forest(data, header, width,training_size,tree_arg):\n",
    "  Forest = []\n",
    "  for t in range(width):\n",
    "    Forest[t]=Reg_Tree(data,header,training_size,tree_arg)\n",
    "  return Forest\n",
    "  \n",
    "\n"
   ]
  },
  {
   "cell_type": "code",
   "execution_count": null,
   "metadata": {},
   "outputs": [
    {
     "ename": "IndexError",
     "evalue": "list index out of range",
     "output_type": "error",
     "traceback": [
      "\u001b[1;31m---------------------------------------------------------------------------\u001b[0m",
      "\u001b[1;31mIndexError\u001b[0m                                Traceback (most recent call last)",
      "\u001b[1;32m~\\AppData\\Local\\Temp/ipykernel_15296/2249093152.py\u001b[0m in \u001b[0;36m<module>\u001b[1;34m\u001b[0m\n\u001b[1;32m----> 1\u001b[1;33m \u001b[0mMy_Forest\u001b[0m \u001b[1;33m=\u001b[0m \u001b[0mReg_Forest\u001b[0m\u001b[1;33m(\u001b[0m\u001b[0mtraining_data\u001b[0m\u001b[1;33m,\u001b[0m \u001b[0mheader\u001b[0m\u001b[1;33m,\u001b[0m \u001b[1;36m5\u001b[0m\u001b[1;33m,\u001b[0m \u001b[1;36m80\u001b[0m\u001b[1;33m,\u001b[0m \u001b[1;36m1\u001b[0m\u001b[1;33m)\u001b[0m\u001b[1;33m\u001b[0m\u001b[1;33m\u001b[0m\u001b[0m\n\u001b[0m",
      "\u001b[1;32m~\\AppData\\Local\\Temp/ipykernel_15296/2312567051.py\u001b[0m in \u001b[0;36mReg_Forest\u001b[1;34m(data, header, width, training_size, tree_arg)\u001b[0m\n\u001b[0;32m      2\u001b[0m   \u001b[0mForest\u001b[0m \u001b[1;33m=\u001b[0m \u001b[1;33m[\u001b[0m\u001b[1;33m]\u001b[0m\u001b[1;33m\u001b[0m\u001b[1;33m\u001b[0m\u001b[0m\n\u001b[0;32m      3\u001b[0m   \u001b[1;32mfor\u001b[0m \u001b[0mt\u001b[0m \u001b[1;32min\u001b[0m \u001b[0mrange\u001b[0m\u001b[1;33m(\u001b[0m\u001b[0mwidth\u001b[0m\u001b[1;33m)\u001b[0m\u001b[1;33m:\u001b[0m\u001b[1;33m\u001b[0m\u001b[1;33m\u001b[0m\u001b[0m\n\u001b[1;32m----> 4\u001b[1;33m     \u001b[0mForest\u001b[0m\u001b[1;33m[\u001b[0m\u001b[0mt\u001b[0m\u001b[1;33m]\u001b[0m\u001b[1;33m=\u001b[0m\u001b[0mReg_Tree\u001b[0m\u001b[1;33m(\u001b[0m\u001b[0mdata\u001b[0m\u001b[1;33m,\u001b[0m\u001b[0mheader\u001b[0m\u001b[1;33m,\u001b[0m\u001b[0mtraining_size\u001b[0m\u001b[1;33m,\u001b[0m\u001b[0mtree_arg\u001b[0m\u001b[1;33m)\u001b[0m\u001b[1;33m\u001b[0m\u001b[1;33m\u001b[0m\u001b[0m\n\u001b[0m\u001b[0;32m      5\u001b[0m   \u001b[1;32mreturn\u001b[0m \u001b[0mForest\u001b[0m\u001b[1;33m\u001b[0m\u001b[1;33m\u001b[0m\u001b[0m\n\u001b[0;32m      6\u001b[0m \u001b[1;33m\u001b[0m\u001b[0m\n",
      "\u001b[1;32m~\\AppData\\Local\\Temp/ipykernel_15296/2716402984.py\u001b[0m in \u001b[0;36mReg_Tree\u001b[1;34m(data, header, training_size, tree_arg)\u001b[0m\n\u001b[0;32m     16\u001b[0m       \u001b[1;32mfor\u001b[0m \u001b[0mcolumn\u001b[0m \u001b[1;32min\u001b[0m \u001b[0marg_to_delete\u001b[0m\u001b[1;33m:\u001b[0m\u001b[1;33m\u001b[0m\u001b[1;33m\u001b[0m\u001b[0m\n\u001b[0;32m     17\u001b[0m           \u001b[1;32mdel\u001b[0m \u001b[0mrow\u001b[0m\u001b[1;33m[\u001b[0m\u001b[0mcolumn\u001b[0m\u001b[1;33m]\u001b[0m\u001b[1;33m\u001b[0m\u001b[1;33m\u001b[0m\u001b[0m\n\u001b[1;32m---> 18\u001b[1;33m   \u001b[0mone_tree\u001b[0m \u001b[1;33m=\u001b[0m \u001b[0mbuild_tree\u001b[0m\u001b[1;33m(\u001b[0m\u001b[0mnew_training\u001b[0m\u001b[1;33m,\u001b[0m \u001b[0mnew_header\u001b[0m\u001b[1;33m)\u001b[0m\u001b[1;33m\u001b[0m\u001b[1;33m\u001b[0m\u001b[0m\n\u001b[0m\u001b[0;32m     19\u001b[0m   \u001b[1;32mreturn\u001b[0m \u001b[0mone_tree\u001b[0m\u001b[1;33m\u001b[0m\u001b[1;33m\u001b[0m\u001b[0m\n\u001b[0;32m     20\u001b[0m \u001b[1;33m\u001b[0m\u001b[0m\n",
      "\u001b[1;32m~\\AppData\\Local\\Temp/ipykernel_15296/3577714991.py\u001b[0m in \u001b[0;36mbuild_tree\u001b[1;34m(rows, new_header)\u001b[0m\n\u001b[0;32m     10\u001b[0m     \u001b[1;31m# calculate the information gain,\u001b[0m\u001b[1;33m\u001b[0m\u001b[1;33m\u001b[0m\u001b[0m\n\u001b[0;32m     11\u001b[0m     \u001b[1;31m# and return the question that produces the highest gain.\u001b[0m\u001b[1;33m\u001b[0m\u001b[1;33m\u001b[0m\u001b[0m\n\u001b[1;32m---> 12\u001b[1;33m     \u001b[0mgain\u001b[0m\u001b[1;33m,\u001b[0m \u001b[0mquestion\u001b[0m \u001b[1;33m=\u001b[0m \u001b[0mfind_best_split\u001b[0m\u001b[1;33m(\u001b[0m\u001b[0mrows\u001b[0m\u001b[1;33m,\u001b[0m\u001b[0mnew_header\u001b[0m\u001b[1;33m)\u001b[0m\u001b[1;33m\u001b[0m\u001b[1;33m\u001b[0m\u001b[0m\n\u001b[0m\u001b[0;32m     13\u001b[0m \u001b[1;33m\u001b[0m\u001b[0m\n\u001b[0;32m     14\u001b[0m     \u001b[1;31m# Base case: no further info gain\u001b[0m\u001b[1;33m\u001b[0m\u001b[1;33m\u001b[0m\u001b[0m\n",
      "\u001b[1;32m~\\AppData\\Local\\Temp/ipykernel_15296/2724522994.py\u001b[0m in \u001b[0;36mfind_best_split\u001b[1;34m(rows, new_header)\u001b[0m\n\u001b[0;32m      9\u001b[0m     \u001b[1;32mfor\u001b[0m \u001b[0mcol\u001b[0m \u001b[1;32min\u001b[0m \u001b[0mrange\u001b[0m\u001b[1;33m(\u001b[0m\u001b[0mn_features\u001b[0m\u001b[1;33m)\u001b[0m\u001b[1;33m:\u001b[0m  \u001b[1;31m# for each feature\u001b[0m\u001b[1;33m\u001b[0m\u001b[1;33m\u001b[0m\u001b[0m\n\u001b[0;32m     10\u001b[0m \u001b[1;33m\u001b[0m\u001b[0m\n\u001b[1;32m---> 11\u001b[1;33m         \u001b[0mvalues\u001b[0m \u001b[1;33m=\u001b[0m \u001b[0mset\u001b[0m\u001b[1;33m(\u001b[0m\u001b[1;33m[\u001b[0m\u001b[0mrow\u001b[0m\u001b[1;33m[\u001b[0m\u001b[0mcol\u001b[0m\u001b[1;33m]\u001b[0m \u001b[1;32mfor\u001b[0m \u001b[0mrow\u001b[0m \u001b[1;32min\u001b[0m \u001b[0mrows\u001b[0m\u001b[1;33m]\u001b[0m\u001b[1;33m)\u001b[0m  \u001b[1;31m# unique values in the column\u001b[0m\u001b[1;33m\u001b[0m\u001b[1;33m\u001b[0m\u001b[0m\n\u001b[0m\u001b[0;32m     12\u001b[0m \u001b[1;33m\u001b[0m\u001b[0m\n\u001b[0;32m     13\u001b[0m         \u001b[1;32mfor\u001b[0m \u001b[0mval\u001b[0m \u001b[1;32min\u001b[0m \u001b[0mvalues\u001b[0m\u001b[1;33m:\u001b[0m  \u001b[1;31m# for each value\u001b[0m\u001b[1;33m\u001b[0m\u001b[1;33m\u001b[0m\u001b[0m\n",
      "\u001b[1;32m~\\AppData\\Local\\Temp/ipykernel_15296/2724522994.py\u001b[0m in \u001b[0;36m<listcomp>\u001b[1;34m(.0)\u001b[0m\n\u001b[0;32m      9\u001b[0m     \u001b[1;32mfor\u001b[0m \u001b[0mcol\u001b[0m \u001b[1;32min\u001b[0m \u001b[0mrange\u001b[0m\u001b[1;33m(\u001b[0m\u001b[0mn_features\u001b[0m\u001b[1;33m)\u001b[0m\u001b[1;33m:\u001b[0m  \u001b[1;31m# for each feature\u001b[0m\u001b[1;33m\u001b[0m\u001b[1;33m\u001b[0m\u001b[0m\n\u001b[0;32m     10\u001b[0m \u001b[1;33m\u001b[0m\u001b[0m\n\u001b[1;32m---> 11\u001b[1;33m         \u001b[0mvalues\u001b[0m \u001b[1;33m=\u001b[0m \u001b[0mset\u001b[0m\u001b[1;33m(\u001b[0m\u001b[1;33m[\u001b[0m\u001b[0mrow\u001b[0m\u001b[1;33m[\u001b[0m\u001b[0mcol\u001b[0m\u001b[1;33m]\u001b[0m \u001b[1;32mfor\u001b[0m \u001b[0mrow\u001b[0m \u001b[1;32min\u001b[0m \u001b[0mrows\u001b[0m\u001b[1;33m]\u001b[0m\u001b[1;33m)\u001b[0m  \u001b[1;31m# unique values in the column\u001b[0m\u001b[1;33m\u001b[0m\u001b[1;33m\u001b[0m\u001b[0m\n\u001b[0m\u001b[0;32m     12\u001b[0m \u001b[1;33m\u001b[0m\u001b[0m\n\u001b[0;32m     13\u001b[0m         \u001b[1;32mfor\u001b[0m \u001b[0mval\u001b[0m \u001b[1;32min\u001b[0m \u001b[0mvalues\u001b[0m\u001b[1;33m:\u001b[0m  \u001b[1;31m# for each value\u001b[0m\u001b[1;33m\u001b[0m\u001b[1;33m\u001b[0m\u001b[0m\n",
      "\u001b[1;31mIndexError\u001b[0m: list index out of range"
     ]
    }
   ],
   "source": [
    "My_Forest = Reg_Forest(training_data, header, 5, 80, 1)\n"
   ]
  }
 ],
 "metadata": {
  "interpreter": {
   "hash": "9bf2ca0f4a7adc3ce2f237ca763c1538d3ef289a4e7face3612a01cdae9f6807"
  },
  "kernelspec": {
   "display_name": "Python 3.10.1 64-bit",
   "language": "python",
   "name": "python3"
  },
  "language_info": {
   "codemirror_mode": {
    "name": "ipython",
    "version": 3
   },
   "file_extension": ".py",
   "mimetype": "text/x-python",
   "name": "python",
   "nbconvert_exporter": "python",
   "pygments_lexer": "ipython3",
   "version": "3.10.1"
  },
  "orig_nbformat": 2
 },
 "nbformat": 4,
 "nbformat_minor": 2
}
