{
 "cells": [
  {
   "cell_type": "code",
   "execution_count": 118,
   "metadata": {},
   "outputs": [
    {
     "name": "stdout",
     "output_type": "stream",
     "text": [
      "10\n",
      "[['Male', 'Female'], ['0', '21', '37', '50', '70'], ['0', '1'], ['0', '1'], ['Yes', 'No'], ['Private', 'Self-employed', 'children', 'Govt_job', 'Never_worked'], ['Urban', 'Rural'], ['0', '100', '140', '170', '200'], ['0', '18', '30', '40', '50'], ['never smoked', 'smokes', 'formerly smoked']]\n"
     ]
    }
   ],
   "source": [
    "import csv\n",
    "import random\n",
    "\n",
    "kompleks_ogolny = []\n",
    "with open('UDAR/kompleks_ogolny_udar.csv', newline='') as csvfile:\n",
    "    reader = csv.reader(csvfile)\n",
    "    for row in reader:\n",
    "        kompleks_ogolny.append(row)\n",
    "print(len(kompleks_ogolny))\n",
    "print(kompleks_ogolny)"
   ]
  },
  {
   "cell_type": "code",
   "execution_count": 119,
   "metadata": {},
   "outputs": [
    {
     "name": "stdout",
     "output_type": "stream",
     "text": [
      "2397\n"
     ]
    }
   ],
   "source": [
    "training_data = []\n",
    "with open('UDAR/udar_training.csv', newline='') as csvfile:\n",
    "    reader = csv.reader(csvfile)\n",
    "    for row in reader:\n",
    "        temp = row[-1]\n",
    "        row.pop(-1)\n",
    "        row.append(int(temp))\n",
    "        training_data.append(row)\n",
    "print(len(training_data))"
   ]
  },
  {
   "cell_type": "code",
   "execution_count": 120,
   "metadata": {},
   "outputs": [
    {
     "name": "stdout",
     "output_type": "stream",
     "text": [
      "1028\n"
     ]
    }
   ],
   "source": [
    "testing_data = []\n",
    "with open('UDAR/udar_test.csv', newline='') as csvfile:\n",
    "    reader = csv.reader(csvfile)\n",
    "    for row in reader:\n",
    "        temp = row[-1]\n",
    "        row.pop(-1)\n",
    "        row.append(int(temp))\n",
    "        testing_data.append(row)\n",
    "print(len(testing_data))"
   ]
  },
  {
   "cell_type": "code",
   "execution_count": 121,
   "metadata": {},
   "outputs": [
    {
     "name": "stdout",
     "output_type": "stream",
     "text": [
      "['Male', '0', '0', '0', 'No', 'Never_worked', 'Urban', '100', '40', 'never smoked', 0]\n"
     ]
    }
   ],
   "source": [
    "from reguly import RegDrzewo, Zbior_Regul, RegLas, dokladnosc, dane_statystyczne\n",
    "from reguly import skroc_kompleks_ogolny\n",
    "from reguly import rozszerz_kompleks\n",
    "\n",
    "print(training_data[1])\n",
    "n = 100"
   ]
  },
  {
   "cell_type": "code",
   "execution_count": 122,
   "metadata": {},
   "outputs": [],
   "source": [
    "nowy_zbior = Zbior_Regul(training_data, kompleks_ogolny, [0, 1, 2, 3, 4, 5, 6, 7, 8, 9],mmm=5)"
   ]
  },
  {
   "cell_type": "code",
   "execution_count": 123,
   "metadata": {},
   "outputs": [
    {
     "name": "stdout",
     "output_type": "stream",
     "text": [
      "['Male', '37', '1', '0', 'Yes', 'Private', 'Urban', '170', '30', 'smokes', 0]\n",
      "0\n",
      "137\n"
     ]
    }
   ],
   "source": [
    "print(training_data[20])\n",
    "print(nowy_zbior.klasyfikacja(training_data[20]))\n",
    "print(len(nowy_zbior.zbior_Regul))"
   ]
  },
  {
   "cell_type": "code",
   "execution_count": 133,
   "metadata": {},
   "outputs": [
    {
     "name": "stdout",
     "output_type": "stream",
     "text": [
      "122\n",
      "--SZ--SZ--SZ--SZ--\n",
      "50\n",
      "_______ZBIOR_________\n",
      "[0.2037037037037037, 0.058521560574948665, 0.16176470588235295, 90.27237354085604]\n",
      "____________________\n"
     ]
    }
   ],
   "source": [
    "import csv\n",
    "import math\n",
    "from reguly import Zbior_Regul, RegLas\n",
    "from testowania import dokladnosc, dane_statystyczne\n",
    "\n",
    "for par_m in range(10,11):\n",
    "\n",
    "    f = open('UDAR_testy_para_sz.txt', 'a')\n",
    "\n",
    "    liczba_powtorzen = 13\n",
    "    parametr_m = par_m\n",
    "    parametr_sz = 50\n",
    "\n",
    "    f.writelines('--SZ--SZ--SZ--SZ--')\n",
    "    f.write('\\n')\n",
    "    f.writelines(str(parametr_sz))\n",
    "    f.write('\\n')\n",
    "\n",
    "    nowy_zbior = Zbior_Regul(training_data, kompleks_ogolny, [0, 1, 2, 3, 4, 5, 6, 7, 8, 9], mmm=parametr_m)\n",
    "    print(len(nowy_zbior.zbior_Regul))\n",
    "\n",
    "    [TPR_regul, FPR_regul, Precyzja_regul] = dane_statystyczne(nowy_zbior, testing_data, kompleks_ogolny)\n",
    "    wynik_zbioru = [TPR_regul, FPR_regul, Precyzja_regul, dokladnosc(nowy_zbior, testing_data, kompleks_ogolny)]\n",
    "    print('--SZ--SZ--SZ--SZ--')\n",
    "    print(parametr_sz)\n",
    "    print('_______ZBIOR_________')\n",
    "    print(wynik_zbioru)\n",
    "    print('____________________')\n",
    "    f.writelines('_______ZBIOR_________')\n",
    "    f.write('\\n')\n",
    "    f.writelines(str(wynik_zbioru))\n",
    "    f.write('\\n')\n",
    "    # lista_wynikow_lasu = []\n",
    "    # for i in range(liczba_powtorzen):\n",
    "    #     nowy_las = RegLas(training_data, kompleks_ogolny, 50, RegLasM=parametr_m)\n",
    "    #     [TPR_lasu, FPR_lasu, Precyzja_lasu] = dane_statystyczne(nowy_las, testing_data, kompleks_ogolny)\n",
    "    #     wynik_lasu = [TPR_lasu, FPR_lasu, Precyzja_lasu, dokladnosc(nowy_las, testing_data, kompleks_ogolny)]\n",
    "    #     print('____________________')\n",
    "    #     print(i)\n",
    "    #     print(wynik_lasu)\n",
    "    #     lista_wynikow_lasu.append(wynik_lasu)\n",
    "\n",
    "    # suma = [0, 0, 0, 0]\n",
    "    # maks = [0, 0, 0, 0]\n",
    "    # mini = [10000, 10000, 10000, 10000]\n",
    "    # for wyniki in lista_wynikow_lasu:\n",
    "    #     for i, wynik in enumerate(wyniki):\n",
    "    #         if wynik > maks[i]:\n",
    "    #             maks[i] = wynik\n",
    "    #         if wynik < mini[i]:\n",
    "    #             mini[i] = wynik\n",
    "    #         suma[i] += wynik\n",
    "\n",
    "    # srednia = [suma[0]/liczba_powtorzen, suma[1]/liczba_powtorzen, suma[2]/liczba_powtorzen, suma[3]/liczba_powtorzen]\n",
    "    # odchylenie = [0, 0, 0, 0]\n",
    "    # suma = [0, 0, 0, 0]\n",
    "    # for wyniki in lista_wynikow_lasu:\n",
    "    #     for i, wynik in enumerate(wyniki):\n",
    "    #         suma[i] += (wynik-srednia[i])*(wynik-srednia[i])\n",
    "\n",
    "    # for i in range(4):\n",
    "    #     odchylenie[i] = math.sqrt(suma[i]/liczba_powtorzen)\n",
    "    # print('--SZ--SZ--SZ--SZ--')\n",
    "    # print(parametr_sz)\n",
    "    # print(\"______ODCHYLENIE\")\n",
    "    # print(odchylenie)\n",
    "    # print(\"______SREDNIA\")\n",
    "    # print(srednia)\n",
    "    # print(\"______MAKS\")\n",
    "    # print(maks)\n",
    "    # print(\"______MINI\")\n",
    "    # print(mini)\n",
    "\n",
    "    # f.writelines('_______LAS________')\n",
    "    # f.write('\\n')\n",
    "    # f.writelines(\"______ODCHYLENIE\")\n",
    "    # f.write('\\n')\n",
    "    # f.writelines(str(odchylenie))\n",
    "    # f.write('\\n')\n",
    "    # f.writelines(\"______SREDNIA\")\n",
    "    # f.write('\\n')\n",
    "    # f.writelines(str(srednia))\n",
    "    # f.write('\\n')\n",
    "    # f.writelines(\"______MAKS\")\n",
    "    # f.write('\\n')\n",
    "    # f.writelines(str(maks))\n",
    "    # f.write('\\n')\n",
    "    # f.writelines(\"______MINI\")\n",
    "    # f.write('\\n')\n",
    "    # f.writelines(str(mini))\n",
    "    # f.write('\\n')\n",
    "    # f.writelines('')\n",
    "    # f.write('\\n')\n",
    "    # f.writelines('')\n",
    "    # f.write('\\n')\n",
    "\n",
    "    f.close()"
   ]
  },
  {
   "cell_type": "code",
   "execution_count": 130,
   "metadata": {},
   "outputs": [],
   "source": [
    "nowy_las = RegLas(training_data,kompleks_ogolny,50,RegLasM=5)"
   ]
  },
  {
   "cell_type": "code",
   "execution_count": null,
   "metadata": {},
   "outputs": [
    {
     "name": "stdout",
     "output_type": "stream",
     "text": [
      "['Female', '0', '0', '0', 'No', 'Private', 'Rural', '0', '18', 'never smoked', 0]\n",
      "0\n"
     ]
    }
   ],
   "source": [
    "print(testing_data[20])\n",
    "print(nowy_las.klasyfikacja(testing_data[20]))"
   ]
  },
  {
   "cell_type": "code",
   "execution_count": null,
   "metadata": {},
   "outputs": [
    {
     "name": "stdout",
     "output_type": "stream",
     "text": [
      "94.53483521068001\n",
      "97.87234042553192\n"
     ]
    }
   ],
   "source": [
    "dokladnosc(nowy_las,training_data,kompleks_ogolny)\n",
    "dokladnosc(nowy_zbior,training_data,kompleks_ogolny)"
   ]
  },
  {
   "cell_type": "code",
   "execution_count": null,
   "metadata": {},
   "outputs": [
    {
     "name": "stdout",
     "output_type": "stream",
     "text": [
      "95.23346303501945\n",
      "91.63424124513618\n"
     ]
    }
   ],
   "source": [
    "dokladnosc(nowy_las,testing_data,kompleks_ogolny)\n",
    "dokladnosc(nowy_zbior,testing_data,kompleks_ogolny)"
   ]
  },
  {
   "cell_type": "code",
   "execution_count": null,
   "metadata": {},
   "outputs": [],
   "source": [
    "def dane_statystyczne(funkcja, zbior, kompleks_ogolny):\n",
    "    nr_odpowiedzi = len(kompleks_ogolny)\n",
    "    TP = 0\n",
    "    FP = 0\n",
    "    TN = 0\n",
    "    FN = 0\n",
    "    TPR = 0\n",
    "    FPR = 0\n",
    "    Precyzja = 0\n",
    "    for przyklad in zbior:\n",
    "        if(przyklad[nr_odpowiedzi] == 0 and funkcja.klasyfikacja(przyklad) == 0):\n",
    "            TN += 1\n",
    "        elif(przyklad[nr_odpowiedzi] == 1 and funkcja.klasyfikacja(przyklad) == 0):\n",
    "            FN += 1\n",
    "        elif(przyklad[nr_odpowiedzi] == 1 and funkcja.klasyfikacja(przyklad) == 1):\n",
    "            TP += 1\n",
    "        elif(przyklad[nr_odpowiedzi] == 0 and funkcja.klasyfikacja(przyklad) == 1):\n",
    "            FP += 1\n",
    "    if (TP + FN) > 0:\n",
    "        TPR = (TP)/(TP + FN)\n",
    "    if (FP + TN) > 0:\n",
    "        FPR = (FP)/(FP + TN)\n",
    "    if (TP+FP) > 0:    \n",
    "        Precyzja = (TP)/(TP+FP)\n",
    "    return TPR, FPR, Precyzja\n"
   ]
  },
  {
   "cell_type": "code",
   "execution_count": null,
   "metadata": {},
   "outputs": [
    {
     "name": "stdout",
     "output_type": "stream",
     "text": [
      "_______TPR FPR_______\n",
      "Lasu:\n",
      "TPR:\n",
      "0.0\n",
      "FPR:\n",
      "0.0\n",
      "Precyzja:\n",
      "0\n",
      "Zbioru Regul:\n",
      "TPR:\n",
      "0.7709923664122137\n",
      "FPR:\n",
      "0.009267431597528684\n",
      "Precyzja:\n",
      "0.8278688524590164\n"
     ]
    }
   ],
   "source": [
    "print('_______TPR FPR_______')\n",
    "print('Lasu:')\n",
    "[TPR_lasu, FPR_lasu, Precyzja_lasu] = dane_statystyczne(nowy_las, training_data, kompleks_ogolny)\n",
    "print('TPR:')\n",
    "print(TPR_lasu)\n",
    "print('FPR:')\n",
    "print(FPR_lasu)\n",
    "print('Precyzja:')\n",
    "print(Precyzja_lasu)\n",
    "print('Zbioru Regul:')\n",
    "[TPR_regul, FPR_regul, Precyzja_regul] = dane_statystyczne(nowy_zbior,training_data,kompleks_ogolny)\n",
    "print('TPR:')\n",
    "print(TPR_regul)\n",
    "print('FPR:')\n",
    "print(FPR_regul)\n",
    "print('Precyzja:')\n",
    "print(Precyzja_regul)"
   ]
  },
  {
   "cell_type": "code",
   "execution_count": null,
   "metadata": {},
   "outputs": [
    {
     "name": "stdout",
     "output_type": "stream",
     "text": [
      "_______TPR FPR_______\n",
      "Lasu:\n",
      "TPR:\n",
      "0.0\n",
      "FPR:\n",
      "0.0\n",
      "Precyzja:\n",
      "0\n",
      "Zbioru Regul:\n",
      "TPR:\n",
      "0.12244897959183673\n",
      "FPR:\n",
      "0.043922369765066395\n",
      "Precyzja:\n",
      "0.12244897959183673\n"
     ]
    }
   ],
   "source": [
    "print('_______TPR FPR_______')\n",
    "print('Lasu:')\n",
    "[TPR_lasu, FPR_lasu, Precyzja_lasu] = dane_statystyczne(nowy_las, testing_data, kompleks_ogolny)\n",
    "print('TPR:')\n",
    "print(TPR_lasu)\n",
    "print('FPR:')\n",
    "print(FPR_lasu)\n",
    "print('Precyzja:')\n",
    "print(Precyzja_lasu)\n",
    "print('Zbioru Regul:')\n",
    "[TPR_regul, FPR_regul, Precyzja_regul] = dane_statystyczne(nowy_zbior,testing_data,kompleks_ogolny)\n",
    "print('TPR:')\n",
    "print(TPR_regul)\n",
    "print('FPR:')\n",
    "print(FPR_regul)\n",
    "print('Precyzja:')\n",
    "print(Precyzja_regul)"
   ]
  }
 ],
 "metadata": {
  "interpreter": {
   "hash": "9bf2ca0f4a7adc3ce2f237ca763c1538d3ef289a4e7face3612a01cdae9f6807"
  },
  "kernelspec": {
   "display_name": "Python 3.10.1 64-bit",
   "language": "python",
   "name": "python3"
  },
  "language_info": {
   "codemirror_mode": {
    "name": "ipython",
    "version": 3
   },
   "file_extension": ".py",
   "mimetype": "text/x-python",
   "name": "python",
   "nbconvert_exporter": "python",
   "pygments_lexer": "ipython3",
   "version": "3.9.2"
  },
  "orig_nbformat": 4
 },
 "nbformat": 4,
 "nbformat_minor": 2
}
