{
 "cells": [
  {
   "cell_type": "code",
   "execution_count": 118,
   "metadata": {},
   "outputs": [
    {
     "name": "stdout",
     "output_type": "stream",
     "text": [
      "10\n",
      "[['Male', 'Female'], ['0', '21', '37', '50', '70'], ['0', '1'], ['0', '1'], ['Yes', 'No'], ['Private', 'Self-employed', 'children', 'Govt_job', 'Never_worked'], ['Urban', 'Rural'], ['0', '100', '140', '170', '200'], ['0', '18', '30', '40', '50'], ['never smoked', 'smokes', 'formerly smoked']]\n"
     ]
    }
   ],
   "source": [
    "import csv\n",
    "import random\n",
    "\n",
    "kompleks_ogolny = []\n",
    "with open('UDAR/kompleks_ogolny_udar.csv', newline='') as csvfile:\n",
    "    reader = csv.reader(csvfile)\n",
    "    for row in reader:\n",
    "        kompleks_ogolny.append(row)\n",
    "print(len(kompleks_ogolny))\n",
    "print(kompleks_ogolny)"
   ]
  },
  {
   "cell_type": "code",
   "execution_count": 119,
   "metadata": {},
   "outputs": [
    {
     "name": "stdout",
     "output_type": "stream",
     "text": [
      "2397\n"
     ]
    }
   ],
   "source": [
    "training_data = []\n",
    "with open('UDAR/udar_training.csv', newline='') as csvfile:\n",
    "    reader = csv.reader(csvfile)\n",
    "    for row in reader:\n",
    "        temp = row[-1]\n",
    "        row.pop(-1)\n",
    "        row.append(int(temp))\n",
    "        training_data.append(row)\n",
    "print(len(training_data))"
   ]
  },
  {
   "cell_type": "code",
   "execution_count": 120,
   "metadata": {},
   "outputs": [
    {
     "name": "stdout",
     "output_type": "stream",
     "text": [
      "1028\n"
     ]
    }
   ],
   "source": [
    "testing_data = []\n",
    "with open('UDAR/udar_test.csv', newline='') as csvfile:\n",
    "    reader = csv.reader(csvfile)\n",
    "    for row in reader:\n",
    "        temp = row[-1]\n",
    "        row.pop(-1)\n",
    "        row.append(int(temp))\n",
    "        testing_data.append(row)\n",
    "print(len(testing_data))"
   ]
  },
  {
   "cell_type": "code",
   "execution_count": 121,
   "metadata": {},
   "outputs": [
    {
     "name": "stdout",
     "output_type": "stream",
     "text": [
      "['Male', '0', '0', '0', 'No', 'Never_worked', 'Urban', '100', '40', 'never smoked', 0]\n"
     ]
    }
   ],
   "source": [
    "from reguly import RegDrzewo, Zbior_Regul, RegLas, dokladnosc, dane_statystyczne\n",
    "from reguly import skroc_kompleks_ogolny\n",
    "from reguly import rozszerz_kompleks\n",
    "\n",
    "print(training_data[1])\n",
    "n = 100"
   ]
  },
  {
   "cell_type": "code",
   "execution_count": 122,
   "metadata": {},
   "outputs": [],
   "source": [
    "nowy_zbior = Zbior_Regul(training_data, kompleks_ogolny, [0, 1, 2, 3, 4, 5, 6, 7, 8, 9],mmm=5)"
   ]
  },
  {
   "cell_type": "code",
   "execution_count": 123,
   "metadata": {},
   "outputs": [
    {
     "name": "stdout",
     "output_type": "stream",
     "text": [
      "['Male', '37', '1', '0', 'Yes', 'Private', 'Urban', '170', '30', 'smokes', 0]\n",
      "0\n",
      "137\n"
     ]
    }
   ],
   "source": [
    "print(training_data[20])\n",
    "print(nowy_zbior.klasyfikacja(training_data[20]))\n",
    "print(len(nowy_zbior.zbior_Regul))"
   ]
  },
  {
   "cell_type": "code",
   "execution_count": 134,
   "metadata": {},
   "outputs": [
    {
     "name": "stdout",
     "output_type": "stream",
     "text": [
      "____________________\n",
      "0\n",
      "[0.0, 0.0, 0, 94.74708171206225]\n"
     ]
    },
    {
     "ename": "KeyboardInterrupt",
     "evalue": "",
     "output_type": "error",
     "traceback": [
      "\u001b[1;31m---------------------------------------------------------------------------\u001b[0m",
      "\u001b[1;31mKeyboardInterrupt\u001b[0m                         Traceback (most recent call last)",
      "Input \u001b[1;32mIn [134]\u001b[0m, in \u001b[0;36m<module>\u001b[1;34m\u001b[0m\n\u001b[0;32m     33\u001b[0m lista_wynikow_lasu \u001b[38;5;241m=\u001b[39m []\n\u001b[0;32m     34\u001b[0m \u001b[38;5;28;01mfor\u001b[39;00m i \u001b[38;5;129;01min\u001b[39;00m \u001b[38;5;28mrange\u001b[39m(liczba_powtorzen):\n\u001b[1;32m---> 35\u001b[0m     nowy_las \u001b[38;5;241m=\u001b[39m \u001b[43mRegLas\u001b[49m\u001b[43m(\u001b[49m\u001b[43mtraining_data\u001b[49m\u001b[43m,\u001b[49m\u001b[43m \u001b[49m\u001b[43mkompleks_ogolny\u001b[49m\u001b[43m,\u001b[49m\u001b[43m \u001b[49m\u001b[38;5;241;43m50\u001b[39;49m\u001b[43m,\u001b[49m\u001b[43m \u001b[49m\u001b[43mRegLasM\u001b[49m\u001b[38;5;241;43m=\u001b[39;49m\u001b[43mparametr_m\u001b[49m\u001b[43m)\u001b[49m\n\u001b[0;32m     36\u001b[0m     [TPR_lasu, FPR_lasu, Precyzja_lasu] \u001b[38;5;241m=\u001b[39m dane_statystyczne(nowy_las, testing_data, kompleks_ogolny)\n\u001b[0;32m     37\u001b[0m     wynik_lasu \u001b[38;5;241m=\u001b[39m [TPR_lasu, FPR_lasu, Precyzja_lasu, dokladnosc(nowy_las, testing_data, kompleks_ogolny)]\n",
      "File \u001b[1;32mc:\\Users\\tumia\\OneDrive\\Desktop\\UMA_Rule_forrest\\reguly.py:229\u001b[0m, in \u001b[0;36mRegLas.__init__\u001b[1;34m(self, dane_T, kompleks_ogolny, szerokosc, RegLasM)\u001b[0m\n\u001b[0;32m    227\u001b[0m \u001b[38;5;28mself\u001b[39m\u001b[38;5;241m.\u001b[39mlas \u001b[38;5;241m=\u001b[39m []\n\u001b[0;32m    228\u001b[0m \u001b[38;5;28;01mfor\u001b[39;00m t \u001b[38;5;129;01min\u001b[39;00m \u001b[38;5;28mrange\u001b[39m(\u001b[38;5;28mself\u001b[39m\u001b[38;5;241m.\u001b[39mszerokosc):\n\u001b[1;32m--> 229\u001b[0m   \u001b[38;5;28mself\u001b[39m\u001b[38;5;241m.\u001b[39mlas\u001b[38;5;241m.\u001b[39mappend(\u001b[43mRegDrzewo\u001b[49m\u001b[43m(\u001b[49m\u001b[43mdane_T\u001b[49m\u001b[43m,\u001b[49m\u001b[43m \u001b[49m\u001b[43mkompleks_ogolny\u001b[49m\u001b[43m,\u001b[49m\u001b[43m \u001b[49m\u001b[43mRegDrzeM\u001b[49m\u001b[38;5;241;43m=\u001b[39;49m\u001b[43mRegLasM\u001b[49m\u001b[43m)\u001b[49m)\n",
      "File \u001b[1;32mc:\\Users\\tumia\\OneDrive\\Desktop\\UMA_Rule_forrest\\reguly.py:218\u001b[0m, in \u001b[0;36mRegDrzewo\u001b[1;34m(zbior_T, kompleks_ogolny, RegDrzeM)\u001b[0m\n\u001b[0;32m    214\u001b[0m   temp_wiersz\u001b[38;5;241m.\u001b[39mappend(zbior_T[wiersz][dlugosc_kompleksu])\n\u001b[0;32m    215\u001b[0m   nowy_trenujacy\u001b[38;5;241m.\u001b[39mappend(temp_wiersz)\n\u001b[1;32m--> 218\u001b[0m Drzewo \u001b[38;5;241m=\u001b[39m \u001b[43mZbior_Regul\u001b[49m\u001b[43m(\u001b[49m\u001b[43mnowy_trenujacy\u001b[49m\u001b[43m,\u001b[49m\u001b[43m \u001b[49m\u001b[43mkompleks_ogolny\u001b[49m\u001b[43m,\u001b[49m\u001b[43m \u001b[49m\u001b[43mnowy_kompleks\u001b[49m\u001b[43m,\u001b[49m\u001b[43m \u001b[49m\u001b[43mmmm\u001b[49m\u001b[38;5;241;43m=\u001b[39;49m\u001b[43mRegDrzeM\u001b[49m\u001b[43m)\u001b[49m\n\u001b[0;32m    219\u001b[0m \u001b[38;5;28;01mreturn\u001b[39;00m Drzewo\n",
      "File \u001b[1;32mc:\\Users\\tumia\\OneDrive\\Desktop\\UMA_Rule_forrest\\reguly.py:189\u001b[0m, in \u001b[0;36mZbior_Regul.__init__\u001b[1;34m(self, zbior_T, kompleks_ogolny, header, mmm)\u001b[0m\n\u001b[0;32m    188\u001b[0m \u001b[38;5;28;01mdef\u001b[39;00m \u001b[38;5;21m__init__\u001b[39m(\u001b[38;5;28mself\u001b[39m, zbior_T, kompleks_ogolny, header, mmm\u001b[38;5;241m=\u001b[39m\u001b[38;5;241m5\u001b[39m):\n\u001b[1;32m--> 189\u001b[0m     \u001b[38;5;28mself\u001b[39m\u001b[38;5;241m.\u001b[39mzbior_Regul \u001b[38;5;241m=\u001b[39m \u001b[43msekwencyjne_pokrywanie\u001b[49m\u001b[43m(\u001b[49m\u001b[43mzbior_T\u001b[49m\u001b[43m,\u001b[49m\u001b[43m \u001b[49m\u001b[43mskroc_kompleks_ogolny\u001b[49m\u001b[43m(\u001b[49m\u001b[43mkompleks_ogolny\u001b[49m\u001b[43m,\u001b[49m\u001b[43m \u001b[49m\u001b[43mheader\u001b[49m\u001b[43m)\u001b[49m\u001b[43m,\u001b[49m\u001b[43m \u001b[49m\u001b[43mkompleks_ogolny\u001b[49m\u001b[43m,\u001b[49m\u001b[43m \u001b[49m\u001b[43mheader\u001b[49m\u001b[43m,\u001b[49m\u001b[43m \u001b[49m\u001b[43mmm\u001b[49m\u001b[38;5;241;43m=\u001b[39;49m\u001b[43mmmm\u001b[49m\u001b[43m)\u001b[49m\n\u001b[0;32m    190\u001b[0m     \u001b[38;5;28mself\u001b[39m\u001b[38;5;241m.\u001b[39mkompleks_ogolny \u001b[38;5;241m=\u001b[39m kompleks_ogolny\n",
      "File \u001b[1;32mc:\\Users\\tumia\\OneDrive\\Desktop\\UMA_Rule_forrest\\reguly.py:180\u001b[0m, in \u001b[0;36msekwencyjne_pokrywanie\u001b[1;34m(zbior_T, kompleks_ogolny_skrocony, kompleks_ogolny, header, mm)\u001b[0m\n\u001b[0;32m    178\u001b[0m zbior_atom \u001b[38;5;241m=\u001b[39m utworz_kompleksy_atomowe(kompleks_ogolny_skrocony)\n\u001b[0;32m    179\u001b[0m \u001b[38;5;28;01mwhile\u001b[39;00m zbior_P \u001b[38;5;241m!=\u001b[39m []:\n\u001b[1;32m--> 180\u001b[0m     kompleks \u001b[38;5;241m=\u001b[39m \u001b[43mznajdz_kompleks_cn2\u001b[49m\u001b[43m(\u001b[49m\u001b[43mzbior_T\u001b[49m\u001b[43m,\u001b[49m\u001b[43m \u001b[49m\u001b[43mzbior_P\u001b[49m\u001b[43m,\u001b[49m\u001b[43m \u001b[49m\u001b[43mzbior_atom\u001b[49m\u001b[43m,\u001b[49m\u001b[43m \u001b[49m\u001b[43mkompleks_ogolny_skrocony\u001b[49m\u001b[43m,\u001b[49m\u001b[43m  \u001b[49m\u001b[43mm\u001b[49m\u001b[38;5;241;43m=\u001b[39;49m\u001b[43mmm\u001b[49m\u001b[43m)\u001b[49m\n\u001b[0;32m    181\u001b[0m     [_, _, klasa] \u001b[38;5;241m=\u001b[39m liczba_przykladow_pokrywanych_przez_kompleks(zbior_P, kompleks)\n\u001b[0;32m    182\u001b[0m     zbior_Regul\u001b[38;5;241m.\u001b[39mappend((rozszerz_kompleks(kompleks, kompleks_ogolny, header), klasa))\n",
      "File \u001b[1;32mc:\\Users\\tumia\\OneDrive\\Desktop\\UMA_Rule_forrest\\reguly.py:134\u001b[0m, in \u001b[0;36mznajdz_kompleks_cn2\u001b[1;34m(z_T, z_P, zbior_atomowych, kompleks_ogolny, m)\u001b[0m\n\u001b[0;32m    131\u001b[0m     \u001b[38;5;28;01mif\u001b[39;00m jakosc_kompleksu_na_zbiorze(kompleks, z_P) \u001b[38;5;241m>\u001b[39m jakosc_kompleksu_na_zbiorze(k_wybrany, z_P):\n\u001b[0;32m    132\u001b[0m         \u001b[38;5;66;03m# if czy_kompleks_statystycznie_istotny(kompleks, z_P):\u001b[39;00m\n\u001b[0;32m    133\u001b[0m             k_wybrany \u001b[38;5;241m=\u001b[39m copy\u001b[38;5;241m.\u001b[39mcopy(kompleks)\n\u001b[1;32m--> 134\u001b[0m \u001b[43mS_zapas\u001b[49m\u001b[38;5;241;43m.\u001b[39;49m\u001b[43msort\u001b[49m\u001b[43m(\u001b[49m\u001b[43mreverse\u001b[49m\u001b[38;5;241;43m=\u001b[39;49m\u001b[38;5;28;43;01mTrue\u001b[39;49;00m\u001b[43m,\u001b[49m\u001b[43m \u001b[49m\u001b[43mkey\u001b[49m\u001b[38;5;241;43m=\u001b[39;49m\u001b[43mjakosc\u001b[49m\u001b[43m)\u001b[49m\n\u001b[0;32m    135\u001b[0m \u001b[38;5;28;01mif\u001b[39;00m \u001b[38;5;28mlen\u001b[39m(S_zapas) \u001b[38;5;241m>\u001b[39m \u001b[38;5;241m0\u001b[39m:\n\u001b[0;32m    136\u001b[0m     S \u001b[38;5;241m=\u001b[39m [S_zapas[i] \u001b[38;5;28;01mfor\u001b[39;00m i \u001b[38;5;129;01min\u001b[39;00m \u001b[38;5;28mrange\u001b[39m(\u001b[38;5;28mmin\u001b[39m(m, \u001b[38;5;28mlen\u001b[39m(S_zapas)))]\n",
      "File \u001b[1;32mc:\\Users\\tumia\\OneDrive\\Desktop\\UMA_Rule_forrest\\reguly.py:124\u001b[0m, in \u001b[0;36mznajdz_kompleks_cn2.<locals>.jakosc\u001b[1;34m(kompl)\u001b[0m\n\u001b[0;32m    123\u001b[0m \u001b[38;5;28;01mdef\u001b[39;00m \u001b[38;5;21mjakosc\u001b[39m(kompl):\n\u001b[1;32m--> 124\u001b[0m     \u001b[38;5;28;01mreturn\u001b[39;00m \u001b[43mjakosc_kompleksu_na_zbiorze\u001b[49m\u001b[43m(\u001b[49m\u001b[43mkompl\u001b[49m\u001b[43m,\u001b[49m\u001b[43m \u001b[49m\u001b[43mz_P\u001b[49m\u001b[43m)\u001b[49m\n",
      "File \u001b[1;32mc:\\Users\\tumia\\OneDrive\\Desktop\\UMA_Rule_forrest\\reguly.py:97\u001b[0m, in \u001b[0;36mjakosc_kompleksu_na_zbiorze\u001b[1;34m(kompleks, zbior_przykladow, m, liczebnosc_C)\u001b[0m\n\u001b[0;32m     96\u001b[0m \u001b[38;5;28;01mdef\u001b[39;00m \u001b[38;5;21mjakosc_kompleksu_na_zbiorze\u001b[39m(kompleks, zbior_przykladow, m\u001b[38;5;241m=\u001b[39m\u001b[38;5;241m2\u001b[39m, liczebnosc_C\u001b[38;5;241m=\u001b[39m\u001b[38;5;241m2\u001b[39m):\n\u001b[1;32m---> 97\u001b[0m     [liczba_przyk_pok, liczba_przyk_o_k_d, _] \u001b[38;5;241m=\u001b[39m \u001b[43mliczba_przykladow_pokrywanych_przez_kompleks\u001b[49m\u001b[43m(\u001b[49m\u001b[43mzbior_przykladow\u001b[49m\u001b[43m,\u001b[49m\u001b[43m \u001b[49m\u001b[43mkompleks\u001b[49m\u001b[43m)\u001b[49m\n\u001b[0;32m     98\u001b[0m     \u001b[38;5;28;01mreturn\u001b[39;00m (liczba_przyk_o_k_d \u001b[38;5;241m+\u001b[39m (m\u001b[38;5;241m/\u001b[39mliczebnosc_C))\u001b[38;5;241m/\u001b[39m(liczba_przyk_pok \u001b[38;5;241m+\u001b[39m m)\n",
      "File \u001b[1;32mc:\\Users\\tumia\\OneDrive\\Desktop\\UMA_Rule_forrest\\reguly.py:72\u001b[0m, in \u001b[0;36mliczba_przykladow_pokrywanych_przez_kompleks\u001b[1;34m(zbior_przykladow, kompleks)\u001b[0m\n\u001b[0;32m     70\u001b[0m klasa \u001b[38;5;241m=\u001b[39m \u001b[38;5;241m1\u001b[39m\n\u001b[0;32m     71\u001b[0m \u001b[38;5;28;01mfor\u001b[39;00m przyklad \u001b[38;5;129;01min\u001b[39;00m zbior_przykladow:\n\u001b[1;32m---> 72\u001b[0m     \u001b[38;5;28;01mif\u001b[39;00m \u001b[43mczy_kompleks_pokrywa_przyklad\u001b[49m\u001b[43m(\u001b[49m\u001b[43mkompleks\u001b[49m\u001b[43m,\u001b[49m\u001b[43m \u001b[49m\u001b[43mprzyklad\u001b[49m\u001b[43m)\u001b[49m:\n\u001b[0;32m     73\u001b[0m         liczba \u001b[38;5;241m+\u001b[39m\u001b[38;5;241m=\u001b[39m \u001b[38;5;241m1\u001b[39m\n\u001b[0;32m     74\u001b[0m         liczba_o_klasie_dom \u001b[38;5;241m+\u001b[39m\u001b[38;5;241m=\u001b[39m przyklad[\u001b[38;5;28mlen\u001b[39m(przyklad)\u001b[38;5;241m-\u001b[39m\u001b[38;5;241m1\u001b[39m]\n",
      "File \u001b[1;32mc:\\Users\\tumia\\OneDrive\\Desktop\\UMA_Rule_forrest\\reguly.py:59\u001b[0m, in \u001b[0;36mczy_kompleks_pokrywa_przyklad\u001b[1;34m(kompleks, przyklad)\u001b[0m\n\u001b[0;32m     57\u001b[0m i \u001b[38;5;241m=\u001b[39m \u001b[38;5;241m0\u001b[39m\n\u001b[0;32m     58\u001b[0m \u001b[38;5;28;01mfor\u001b[39;00m selektor \u001b[38;5;129;01min\u001b[39;00m przyklad:\n\u001b[1;32m---> 59\u001b[0m     \u001b[38;5;28;01mif\u001b[39;00m selektor \u001b[38;5;129;01mnot\u001b[39;00m \u001b[38;5;129;01min\u001b[39;00m \u001b[43mkompleks\u001b[49m\u001b[43m[\u001b[49m\u001b[43mi\u001b[49m\u001b[43m]\u001b[49m:\n\u001b[0;32m     60\u001b[0m         \u001b[38;5;28;01mreturn\u001b[39;00m \u001b[38;5;28;01mFalse\u001b[39;00m\n\u001b[0;32m     61\u001b[0m     i \u001b[38;5;241m+\u001b[39m\u001b[38;5;241m=\u001b[39m \u001b[38;5;241m1\u001b[39m\n",
      "\u001b[1;31mKeyboardInterrupt\u001b[0m: "
     ]
    }
   ],
   "source": [
    "import csv\n",
    "import math\n",
    "from reguly import Zbior_Regul, RegLas\n",
    "from testowania import dokladnosc, dane_statystyczne\n",
    "\n",
    "for par_m in range(10,11):\n",
    "\n",
    "    f = open('UDAR_testy_para_sz.txt', 'a')\n",
    "\n",
    "    liczba_powtorzen = 13\n",
    "    parametr_m = par_m\n",
    "    parametr_sz = 50\n",
    "\n",
    "    # f.writelines('--SZ--SZ--SZ--SZ--')\n",
    "    # f.write('\\n')\n",
    "    # f.writelines(str(parametr_sz))\n",
    "    # f.write('\\n')\n",
    "\n",
    "    # nowy_zbior = Zbior_Regul(training_data, kompleks_ogolny, [0, 1, 2, 3, 4, 5, 6, 7, 8, 9], mmm=parametr_m)\n",
    "    # print(len(nowy_zbior.zbior_Regul))\n",
    "\n",
    "    # [TPR_regul, FPR_regul, Precyzja_regul] = dane_statystyczne(nowy_zbior, testing_data, kompleks_ogolny)\n",
    "    # wynik_zbioru = [TPR_regul, FPR_regul, Precyzja_regul, dokladnosc(nowy_zbior, testing_data, kompleks_ogolny)]\n",
    "    # print('--SZ--SZ--SZ--SZ--')\n",
    "    # print(parametr_sz)\n",
    "    # print('_______ZBIOR_________')\n",
    "    # print(wynik_zbioru)\n",
    "    # print('____________________')\n",
    "    # f.writelines('_______ZBIOR_________')\n",
    "    # f.write('\\n')\n",
    "    # f.writelines(str(wynik_zbioru))\n",
    "    # f.write('\\n')\n",
    "    lista_wynikow_lasu = []\n",
    "    for i in range(liczba_powtorzen):\n",
    "        nowy_las = RegLas(training_data, kompleks_ogolny, 50, RegLasM=parametr_m)\n",
    "        [TPR_lasu, FPR_lasu, Precyzja_lasu] = dane_statystyczne(nowy_las, testing_data, kompleks_ogolny)\n",
    "        wynik_lasu = [TPR_lasu, FPR_lasu, Precyzja_lasu, dokladnosc(nowy_las, testing_data, kompleks_ogolny)]\n",
    "        print('____________________')\n",
    "        print(i)\n",
    "        print(wynik_lasu)\n",
    "        lista_wynikow_lasu.append(wynik_lasu)\n",
    "\n",
    "    # suma = [0, 0, 0, 0]\n",
    "    # maks = [0, 0, 0, 0]\n",
    "    # mini = [10000, 10000, 10000, 10000]\n",
    "    # for wyniki in lista_wynikow_lasu:\n",
    "    #     for i, wynik in enumerate(wyniki):\n",
    "    #         if wynik > maks[i]:\n",
    "    #             maks[i] = wynik\n",
    "    #         if wynik < mini[i]:\n",
    "    #             mini[i] = wynik\n",
    "    #         suma[i] += wynik\n",
    "\n",
    "    # srednia = [suma[0]/liczba_powtorzen, suma[1]/liczba_powtorzen, suma[2]/liczba_powtorzen, suma[3]/liczba_powtorzen]\n",
    "    # odchylenie = [0, 0, 0, 0]\n",
    "    # suma = [0, 0, 0, 0]\n",
    "    # for wyniki in lista_wynikow_lasu:\n",
    "    #     for i, wynik in enumerate(wyniki):\n",
    "    #         suma[i] += (wynik-srednia[i])*(wynik-srednia[i])\n",
    "\n",
    "    # for i in range(4):\n",
    "    #     odchylenie[i] = math.sqrt(suma[i]/liczba_powtorzen)\n",
    "    # print('--SZ--SZ--SZ--SZ--')\n",
    "    # print(parametr_sz)\n",
    "    # print(\"______ODCHYLENIE\")\n",
    "    # print(odchylenie)\n",
    "    # print(\"______SREDNIA\")\n",
    "    # print(srednia)\n",
    "    # print(\"______MAKS\")\n",
    "    # print(maks)\n",
    "    # print(\"______MINI\")\n",
    "    # print(mini)\n",
    "\n",
    "    # f.writelines('_______LAS________')\n",
    "    # f.write('\\n')\n",
    "    # f.writelines(\"______ODCHYLENIE\")\n",
    "    # f.write('\\n')\n",
    "    # f.writelines(str(odchylenie))\n",
    "    # f.write('\\n')\n",
    "    # f.writelines(\"______SREDNIA\")\n",
    "    # f.write('\\n')\n",
    "    # f.writelines(str(srednia))\n",
    "    # f.write('\\n')\n",
    "    # f.writelines(\"______MAKS\")\n",
    "    # f.write('\\n')\n",
    "    # f.writelines(str(maks))\n",
    "    # f.write('\\n')\n",
    "    # f.writelines(\"______MINI\")\n",
    "    # f.write('\\n')\n",
    "    # f.writelines(str(mini))\n",
    "    # f.write('\\n')\n",
    "    # f.writelines('')\n",
    "    # f.write('\\n')\n",
    "    # f.writelines('')\n",
    "    # f.write('\\n')\n",
    "\n",
    "    f.close()"
   ]
  },
  {
   "cell_type": "code",
   "execution_count": 130,
   "metadata": {},
   "outputs": [],
   "source": [
    "nowy_las = RegLas(training_data,kompleks_ogolny,50,RegLasM=5)"
   ]
  },
  {
   "cell_type": "code",
   "execution_count": null,
   "metadata": {},
   "outputs": [
    {
     "name": "stdout",
     "output_type": "stream",
     "text": [
      "['Female', '0', '0', '0', 'No', 'Private', 'Rural', '0', '18', 'never smoked', 0]\n",
      "0\n"
     ]
    }
   ],
   "source": [
    "print(testing_data[20])\n",
    "print(nowy_las.klasyfikacja(testing_data[20]))"
   ]
  },
  {
   "cell_type": "code",
   "execution_count": null,
   "metadata": {},
   "outputs": [
    {
     "name": "stdout",
     "output_type": "stream",
     "text": [
      "94.53483521068001\n",
      "97.87234042553192\n"
     ]
    }
   ],
   "source": [
    "dokladnosc(nowy_las,training_data,kompleks_ogolny)\n",
    "dokladnosc(nowy_zbior,training_data,kompleks_ogolny)"
   ]
  },
  {
   "cell_type": "code",
   "execution_count": null,
   "metadata": {},
   "outputs": [
    {
     "name": "stdout",
     "output_type": "stream",
     "text": [
      "95.23346303501945\n",
      "91.63424124513618\n"
     ]
    }
   ],
   "source": [
    "dokladnosc(nowy_las,testing_data,kompleks_ogolny)\n",
    "dokladnosc(nowy_zbior,testing_data,kompleks_ogolny)"
   ]
  },
  {
   "cell_type": "code",
   "execution_count": null,
   "metadata": {},
   "outputs": [],
   "source": [
    "def dane_statystyczne(funkcja, zbior, kompleks_ogolny):\n",
    "    nr_odpowiedzi = len(kompleks_ogolny)\n",
    "    TP = 0\n",
    "    FP = 0\n",
    "    TN = 0\n",
    "    FN = 0\n",
    "    TPR = 0\n",
    "    FPR = 0\n",
    "    Precyzja = 0\n",
    "    for przyklad in zbior:\n",
    "        if(przyklad[nr_odpowiedzi] == 0 and funkcja.klasyfikacja(przyklad) == 0):\n",
    "            TN += 1\n",
    "        elif(przyklad[nr_odpowiedzi] == 1 and funkcja.klasyfikacja(przyklad) == 0):\n",
    "            FN += 1\n",
    "        elif(przyklad[nr_odpowiedzi] == 1 and funkcja.klasyfikacja(przyklad) == 1):\n",
    "            TP += 1\n",
    "        elif(przyklad[nr_odpowiedzi] == 0 and funkcja.klasyfikacja(przyklad) == 1):\n",
    "            FP += 1\n",
    "    if (TP + FN) > 0:\n",
    "        TPR = (TP)/(TP + FN)\n",
    "    if (FP + TN) > 0:\n",
    "        FPR = (FP)/(FP + TN)\n",
    "    if (TP+FP) > 0:    \n",
    "        Precyzja = (TP)/(TP+FP)\n",
    "    return TPR, FPR, Precyzja\n"
   ]
  },
  {
   "cell_type": "code",
   "execution_count": null,
   "metadata": {},
   "outputs": [
    {
     "name": "stdout",
     "output_type": "stream",
     "text": [
      "_______TPR FPR_______\n",
      "Lasu:\n",
      "TPR:\n",
      "0.0\n",
      "FPR:\n",
      "0.0\n",
      "Precyzja:\n",
      "0\n",
      "Zbioru Regul:\n",
      "TPR:\n",
      "0.7709923664122137\n",
      "FPR:\n",
      "0.009267431597528684\n",
      "Precyzja:\n",
      "0.8278688524590164\n"
     ]
    }
   ],
   "source": [
    "print('_______TPR FPR_______')\n",
    "print('Lasu:')\n",
    "[TPR_lasu, FPR_lasu, Precyzja_lasu] = dane_statystyczne(nowy_las, training_data, kompleks_ogolny)\n",
    "print('TPR:')\n",
    "print(TPR_lasu)\n",
    "print('FPR:')\n",
    "print(FPR_lasu)\n",
    "print('Precyzja:')\n",
    "print(Precyzja_lasu)\n",
    "print('Zbioru Regul:')\n",
    "[TPR_regul, FPR_regul, Precyzja_regul] = dane_statystyczne(nowy_zbior,training_data,kompleks_ogolny)\n",
    "print('TPR:')\n",
    "print(TPR_regul)\n",
    "print('FPR:')\n",
    "print(FPR_regul)\n",
    "print('Precyzja:')\n",
    "print(Precyzja_regul)"
   ]
  },
  {
   "cell_type": "code",
   "execution_count": null,
   "metadata": {},
   "outputs": [
    {
     "name": "stdout",
     "output_type": "stream",
     "text": [
      "_______TPR FPR_______\n",
      "Lasu:\n",
      "TPR:\n",
      "0.0\n",
      "FPR:\n",
      "0.0\n",
      "Precyzja:\n",
      "0\n",
      "Zbioru Regul:\n",
      "TPR:\n",
      "0.12244897959183673\n",
      "FPR:\n",
      "0.043922369765066395\n",
      "Precyzja:\n",
      "0.12244897959183673\n"
     ]
    }
   ],
   "source": [
    "print('_______TPR FPR_______')\n",
    "print('Lasu:')\n",
    "[TPR_lasu, FPR_lasu, Precyzja_lasu] = dane_statystyczne(nowy_las, testing_data, kompleks_ogolny)\n",
    "print('TPR:')\n",
    "print(TPR_lasu)\n",
    "print('FPR:')\n",
    "print(FPR_lasu)\n",
    "print('Precyzja:')\n",
    "print(Precyzja_lasu)\n",
    "print('Zbioru Regul:')\n",
    "[TPR_regul, FPR_regul, Precyzja_regul] = dane_statystyczne(nowy_zbior,testing_data,kompleks_ogolny)\n",
    "print('TPR:')\n",
    "print(TPR_regul)\n",
    "print('FPR:')\n",
    "print(FPR_regul)\n",
    "print('Precyzja:')\n",
    "print(Precyzja_regul)"
   ]
  }
 ],
 "metadata": {
  "interpreter": {
   "hash": "9bf2ca0f4a7adc3ce2f237ca763c1538d3ef289a4e7face3612a01cdae9f6807"
  },
  "kernelspec": {
   "display_name": "Python 3.10.1 64-bit",
   "language": "python",
   "name": "python3"
  },
  "language_info": {
   "codemirror_mode": {
    "name": "ipython",
    "version": 3
   },
   "file_extension": ".py",
   "mimetype": "text/x-python",
   "name": "python",
   "nbconvert_exporter": "python",
   "pygments_lexer": "ipython3",
   "version": "3.9.2"
  },
  "orig_nbformat": 4
 },
 "nbformat": 4,
 "nbformat_minor": 2
}
