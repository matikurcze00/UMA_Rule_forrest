{
 "cells": [
  {
   "cell_type": "code",
   "execution_count": 37,
   "metadata": {},
   "outputs": [
    {
     "name": "stdout",
     "output_type": "stream",
     "text": [
      "10\n",
      "[['Male', 'Female'], ['0', '16', '32', '48', '64', '72'], ['0', '1'], ['0', '1'], ['Yes', 'No'], ['Private', 'Self-employed', 'children', 'Govt_job', 'Never_worked'], ['Urban', 'Rural'], ['0', '85', '135', '185', '235', '260'], ['0', '20', '40', '60', '80', '90'], ['never smoked', 'smokes', 'formerly smoked']]\n"
     ]
    }
   ],
   "source": [
    "import csv\n",
    "import random\n",
    "\n",
    "kompleks_ogolny = []\n",
    "with open('kompleks_ogolny_udar.csv', newline='') as csvfile:\n",
    "    reader = csv.reader(csvfile)\n",
    "    for row in reader:\n",
    "        kompleks_ogolny.append(row)\n",
    "print(len(kompleks_ogolny))\n",
    "print(kompleks_ogolny)"
   ]
  },
  {
   "cell_type": "code",
   "execution_count": 38,
   "metadata": {},
   "outputs": [
    {
     "name": "stdout",
     "output_type": "stream",
     "text": [
      "2397\n"
     ]
    }
   ],
   "source": [
    "training_data = []\n",
    "with open('udar_training.csv', newline='') as csvfile:\n",
    "    reader = csv.reader(csvfile)\n",
    "    for row in reader:\n",
    "        temp = row[-1]\n",
    "        row.pop(-1)\n",
    "        row.append(int(temp))\n",
    "        training_data.append(row)\n",
    "print(len(training_data))"
   ]
  },
  {
   "cell_type": "code",
   "execution_count": 40,
   "metadata": {},
   "outputs": [
    {
     "name": "stdout",
     "output_type": "stream",
     "text": [
      "1028\n"
     ]
    }
   ],
   "source": [
    "testing_data = []\n",
    "with open('udar_test.csv', newline='') as csvfile:\n",
    "    reader = csv.reader(csvfile)\n",
    "    for row in reader:\n",
    "        temp = row[-1]\n",
    "        row.pop(-1)\n",
    "        row.append(int(temp))\n",
    "        testing_data.append(row)\n",
    "print(len(testing_data))"
   ]
  },
  {
   "cell_type": "code",
   "execution_count": 41,
   "metadata": {},
   "outputs": [
    {
     "name": "stdout",
     "output_type": "stream",
     "text": [
      "['Female', '16', '0', '0', 'Yes', 'Govt_job', 'Rural', '0', '20', 'formerly smoked', 0]\n"
     ]
    }
   ],
   "source": [
    "from reguly import RegDrzewo, Zbior_Regul, RegLas, dokladnosc\n",
    "from reguly import skroc_kompleks_ogolny\n",
    "from reguly import rozszerz_kompleks\n",
    "\n",
    "print(training_data[1])\n",
    "n = 100"
   ]
  },
  {
   "cell_type": "code",
   "execution_count": 43,
   "metadata": {},
   "outputs": [],
   "source": [
    "nowy_zbior = Zbior_Regul(training_data, kompleks_ogolny, [0, 1, 2, 3, 4, 5, 6, 7, 8, 9])"
   ]
  },
  {
   "cell_type": "code",
   "execution_count": 24,
   "metadata": {},
   "outputs": [
    {
     "name": "stdout",
     "output_type": "stream",
     "text": [
      "['Female', '24', '0', '0', 'Yes', 'Private', 'Rural', '60', '20', 'never smoked', 0]\n",
      "0\n",
      "1\n"
     ]
    }
   ],
   "source": [
    "print(training_data[20])\n",
    "print(nowy_zbior.klasyfikacja(training_data[20]))\n",
    "print((len(nowy_zbior.zbior_Regul)))"
   ]
  },
  {
   "cell_type": "code",
   "execution_count": 17,
   "metadata": {},
   "outputs": [
    {
     "ename": "KeyboardInterrupt",
     "evalue": "",
     "output_type": "error",
     "traceback": [
      "\u001b[1;31m---------------------------------------------------------------------------\u001b[0m",
      "\u001b[1;31mKeyboardInterrupt\u001b[0m                         Traceback (most recent call last)",
      "Input \u001b[1;32mIn [17]\u001b[0m, in \u001b[0;36m<module>\u001b[1;34m\u001b[0m\n\u001b[1;32m----> 1\u001b[0m nowy_las \u001b[38;5;241m=\u001b[39m \u001b[43mRegLas\u001b[49m\u001b[43m(\u001b[49m\u001b[43mtraining_data\u001b[49m\u001b[43m,\u001b[49m\u001b[43mkompleks_ogolny\u001b[49m\u001b[43m,\u001b[49m\u001b[38;5;241;43m50\u001b[39;49m\u001b[43m)\u001b[49m\n",
      "File \u001b[1;32mc:\\Users\\tumia\\OneDrive\\Desktop\\UMA_Rule_forrest\\reguly.py:229\u001b[0m, in \u001b[0;36mRegLas.__init__\u001b[1;34m(self, dane_T, kompleks_ogolny, szerokosc, RegLasM)\u001b[0m\n\u001b[0;32m    227\u001b[0m \u001b[38;5;28mself\u001b[39m\u001b[38;5;241m.\u001b[39mlas \u001b[38;5;241m=\u001b[39m []\n\u001b[0;32m    228\u001b[0m \u001b[38;5;28;01mfor\u001b[39;00m t \u001b[38;5;129;01min\u001b[39;00m \u001b[38;5;28mrange\u001b[39m(\u001b[38;5;28mself\u001b[39m\u001b[38;5;241m.\u001b[39mszerokosc):\n\u001b[1;32m--> 229\u001b[0m   \u001b[38;5;28mself\u001b[39m\u001b[38;5;241m.\u001b[39mlas\u001b[38;5;241m.\u001b[39mappend(\u001b[43mRegDrzewo\u001b[49m\u001b[43m(\u001b[49m\u001b[43mdane_T\u001b[49m\u001b[43m,\u001b[49m\u001b[43m \u001b[49m\u001b[43mkompleks_ogolny\u001b[49m\u001b[43m,\u001b[49m\u001b[43m \u001b[49m\u001b[43mRegDrzeM\u001b[49m\u001b[38;5;241;43m=\u001b[39;49m\u001b[43mRegLasM\u001b[49m\u001b[43m)\u001b[49m)\n",
      "File \u001b[1;32mc:\\Users\\tumia\\OneDrive\\Desktop\\UMA_Rule_forrest\\reguly.py:218\u001b[0m, in \u001b[0;36mRegDrzewo\u001b[1;34m(zbior_T, kompleks_ogolny, RegDrzeM)\u001b[0m\n\u001b[0;32m    214\u001b[0m   temp_wiersz\u001b[38;5;241m.\u001b[39mappend(zbior_T[wiersz][dlugosc_kompleksu])\n\u001b[0;32m    215\u001b[0m   nowy_trenujacy\u001b[38;5;241m.\u001b[39mappend(temp_wiersz)\n\u001b[1;32m--> 218\u001b[0m Drzewo \u001b[38;5;241m=\u001b[39m \u001b[43mZbior_Regul\u001b[49m\u001b[43m(\u001b[49m\u001b[43mnowy_trenujacy\u001b[49m\u001b[43m,\u001b[49m\u001b[43m \u001b[49m\u001b[43mkompleks_ogolny\u001b[49m\u001b[43m,\u001b[49m\u001b[43m \u001b[49m\u001b[43mnowy_kompleks\u001b[49m\u001b[43m,\u001b[49m\u001b[43m \u001b[49m\u001b[43mmmm\u001b[49m\u001b[38;5;241;43m=\u001b[39;49m\u001b[43mRegDrzeM\u001b[49m\u001b[43m)\u001b[49m\n\u001b[0;32m    219\u001b[0m \u001b[38;5;28;01mreturn\u001b[39;00m Drzewo\n",
      "File \u001b[1;32mc:\\Users\\tumia\\OneDrive\\Desktop\\UMA_Rule_forrest\\reguly.py:189\u001b[0m, in \u001b[0;36mZbior_Regul.__init__\u001b[1;34m(self, zbior_T, kompleks_ogolny, header, mmm)\u001b[0m\n\u001b[0;32m    188\u001b[0m \u001b[38;5;28;01mdef\u001b[39;00m \u001b[38;5;21m__init__\u001b[39m(\u001b[38;5;28mself\u001b[39m, zbior_T, kompleks_ogolny, header, mmm\u001b[38;5;241m=\u001b[39m\u001b[38;5;241m5\u001b[39m):\n\u001b[1;32m--> 189\u001b[0m     \u001b[38;5;28mself\u001b[39m\u001b[38;5;241m.\u001b[39mzbior_Regul \u001b[38;5;241m=\u001b[39m \u001b[43msekwencyjne_pokrywanie\u001b[49m\u001b[43m(\u001b[49m\u001b[43mzbior_T\u001b[49m\u001b[43m,\u001b[49m\u001b[43m \u001b[49m\u001b[43mskroc_kompleks_ogolny\u001b[49m\u001b[43m(\u001b[49m\u001b[43mkompleks_ogolny\u001b[49m\u001b[43m,\u001b[49m\u001b[43m \u001b[49m\u001b[43mheader\u001b[49m\u001b[43m)\u001b[49m\u001b[43m,\u001b[49m\u001b[43m \u001b[49m\u001b[43mkompleks_ogolny\u001b[49m\u001b[43m,\u001b[49m\u001b[43m \u001b[49m\u001b[43mheader\u001b[49m\u001b[43m,\u001b[49m\u001b[43m \u001b[49m\u001b[43mmm\u001b[49m\u001b[38;5;241;43m=\u001b[39;49m\u001b[43mmmm\u001b[49m\u001b[43m)\u001b[49m\n\u001b[0;32m    190\u001b[0m     \u001b[38;5;28mself\u001b[39m\u001b[38;5;241m.\u001b[39mkompleks_ogolny \u001b[38;5;241m=\u001b[39m kompleks_ogolny\n",
      "File \u001b[1;32mc:\\Users\\tumia\\OneDrive\\Desktop\\UMA_Rule_forrest\\reguly.py:180\u001b[0m, in \u001b[0;36msekwencyjne_pokrywanie\u001b[1;34m(zbior_T, kompleks_ogolny_skrocony, kompleks_ogolny, header, mm)\u001b[0m\n\u001b[0;32m    178\u001b[0m zbior_atom \u001b[38;5;241m=\u001b[39m utworz_kompleksy_atomowe(kompleks_ogolny_skrocony)\n\u001b[0;32m    179\u001b[0m \u001b[38;5;28;01mwhile\u001b[39;00m zbior_P \u001b[38;5;241m!=\u001b[39m []:\n\u001b[1;32m--> 180\u001b[0m     kompleks \u001b[38;5;241m=\u001b[39m \u001b[43mznajdz_kompleks_cn2\u001b[49m\u001b[43m(\u001b[49m\u001b[43mzbior_T\u001b[49m\u001b[43m,\u001b[49m\u001b[43m \u001b[49m\u001b[43mzbior_P\u001b[49m\u001b[43m,\u001b[49m\u001b[43m \u001b[49m\u001b[43mzbior_atom\u001b[49m\u001b[43m,\u001b[49m\u001b[43m \u001b[49m\u001b[43mkompleks_ogolny_skrocony\u001b[49m\u001b[43m,\u001b[49m\u001b[43m  \u001b[49m\u001b[43mm\u001b[49m\u001b[38;5;241;43m=\u001b[39;49m\u001b[43mmm\u001b[49m\u001b[43m)\u001b[49m\n\u001b[0;32m    181\u001b[0m     [_, _, klasa] \u001b[38;5;241m=\u001b[39m liczba_przykladow_pokrywanych_przez_kompleks(zbior_P, kompleks)\n\u001b[0;32m    182\u001b[0m     zbior_Regul\u001b[38;5;241m.\u001b[39mappend((rozszerz_kompleks(kompleks, kompleks_ogolny, header), klasa))\n",
      "File \u001b[1;32mc:\\Users\\tumia\\OneDrive\\Desktop\\UMA_Rule_forrest\\reguly.py:127\u001b[0m, in \u001b[0;36mznajdz_kompleks_cn2\u001b[1;34m(z_T, z_P, zbior_atomowych, kompleks_ogolny, m)\u001b[0m\n\u001b[0;32m    124\u001b[0m     \u001b[38;5;28;01mreturn\u001b[39;00m jakosc_kompleksu_na_zbiorze(kompl, z_P)\n\u001b[0;32m    126\u001b[0m \u001b[38;5;28;01mwhile\u001b[39;00m S \u001b[38;5;241m!=\u001b[39m []:\n\u001b[1;32m--> 127\u001b[0m     S_zapas \u001b[38;5;241m=\u001b[39m \u001b[43mkoniunkcja_zbiorow_kompleksow\u001b[49m\u001b[43m(\u001b[49m\u001b[43mS\u001b[49m\u001b[43m,\u001b[49m\u001b[43m \u001b[49m\u001b[43mzbior_atomowych\u001b[49m\u001b[43m)\u001b[49m\n\u001b[0;32m    128\u001b[0m     S_zapas \u001b[38;5;241m=\u001b[39m [i \u001b[38;5;28;01mfor\u001b[39;00m i \u001b[38;5;129;01min\u001b[39;00m S_zapas \u001b[38;5;28;01mif\u001b[39;00m i \u001b[38;5;129;01mnot\u001b[39;00m \u001b[38;5;129;01min\u001b[39;00m S]\n\u001b[0;32m    129\u001b[0m     S_zapas \u001b[38;5;241m=\u001b[39m [i \u001b[38;5;28;01mfor\u001b[39;00m i \u001b[38;5;129;01min\u001b[39;00m S_zapas \u001b[38;5;28;01mif\u001b[39;00m i \u001b[38;5;129;01mnot\u001b[39;00m \u001b[38;5;129;01min\u001b[39;00m [[[], [], [], [], [], [], [], [], [], [], [], []]]]\n",
      "File \u001b[1;32mc:\\Users\\tumia\\OneDrive\\Desktop\\UMA_Rule_forrest\\reguly.py:28\u001b[0m, in \u001b[0;36mkoniunkcja_zbiorow_kompleksow\u001b[1;34m(zbior_1, zbior_2)\u001b[0m\n\u001b[0;32m     26\u001b[0m     \u001b[38;5;28;01mfor\u001b[39;00m kompleks_zbior_2 \u001b[38;5;129;01min\u001b[39;00m zbior_2:\n\u001b[0;32m     27\u001b[0m         zbior\u001b[38;5;241m.\u001b[39mappend(koniunkcja_kompleksow(kompleks_zbior_1, kompleks_zbior_2))\n\u001b[1;32m---> 28\u001b[0m final_zbior \u001b[38;5;241m=\u001b[39m [i \u001b[38;5;28;01mfor\u001b[39;00m n, i \u001b[38;5;129;01min\u001b[39;00m \u001b[38;5;28menumerate\u001b[39m(zbior) \u001b[38;5;28;01mif\u001b[39;00m i \u001b[38;5;129;01mnot\u001b[39;00m \u001b[38;5;129;01min\u001b[39;00m zbior[:n]]\n\u001b[0;32m     29\u001b[0m \u001b[38;5;28;01mreturn\u001b[39;00m final_zbior\n",
      "File \u001b[1;32mc:\\Users\\tumia\\OneDrive\\Desktop\\UMA_Rule_forrest\\reguly.py:28\u001b[0m, in \u001b[0;36m<listcomp>\u001b[1;34m(.0)\u001b[0m\n\u001b[0;32m     26\u001b[0m     \u001b[38;5;28;01mfor\u001b[39;00m kompleks_zbior_2 \u001b[38;5;129;01min\u001b[39;00m zbior_2:\n\u001b[0;32m     27\u001b[0m         zbior\u001b[38;5;241m.\u001b[39mappend(koniunkcja_kompleksow(kompleks_zbior_1, kompleks_zbior_2))\n\u001b[1;32m---> 28\u001b[0m final_zbior \u001b[38;5;241m=\u001b[39m [i \u001b[38;5;28;01mfor\u001b[39;00m n, i \u001b[38;5;129;01min\u001b[39;00m \u001b[38;5;28menumerate\u001b[39m(zbior) \u001b[38;5;28;01mif\u001b[39;00m i \u001b[38;5;129;01mnot\u001b[39;00m \u001b[38;5;129;01min\u001b[39;00m zbior[:n]]\n\u001b[0;32m     29\u001b[0m \u001b[38;5;28;01mreturn\u001b[39;00m final_zbior\n",
      "\u001b[1;31mKeyboardInterrupt\u001b[0m: "
     ]
    }
   ],
   "source": [
    "nowy_las = RegLas(training_data,kompleks_ogolny,50)"
   ]
  },
  {
   "cell_type": "code",
   "execution_count": null,
   "metadata": {},
   "outputs": [
    {
     "name": "stdout",
     "output_type": "stream",
     "text": [
      "['48', '1', '2', '160', '247', '0', '1', '150', '0', '1', '0', '2', 0]\n",
      "1\n"
     ]
    }
   ],
   "source": [
    "print(testing_data[20])\n",
    "print(nowy_las.klasyfikacja(testing_data[20]))"
   ]
  },
  {
   "cell_type": "code",
   "execution_count": null,
   "metadata": {},
   "outputs": [
    {
     "name": "stdout",
     "output_type": "stream",
     "text": [
      "94.11764705882354\n",
      "100.0\n"
     ]
    }
   ],
   "source": [
    "dokladnosc(nowy_las,training_data,kompleks_ogolny)\n",
    "dokladnosc(nowy_zbior,training_data,kompleks_ogolny)"
   ]
  },
  {
   "cell_type": "code",
   "execution_count": null,
   "metadata": {},
   "outputs": [],
   "source": [
    "dokladnosc(nowy_las,test_data,kompleks_ogolny)\n",
    "dokladnosc(nowy_zbior,test_data,kompleks_ogolny)"
   ]
  }
 ],
 "metadata": {
  "interpreter": {
   "hash": "9bf2ca0f4a7adc3ce2f237ca763c1538d3ef289a4e7face3612a01cdae9f6807"
  },
  "kernelspec": {
   "display_name": "Python 3.10.1 64-bit",
   "language": "python",
   "name": "python3"
  },
  "language_info": {
   "codemirror_mode": {
    "name": "ipython",
    "version": 3
   },
   "file_extension": ".py",
   "mimetype": "text/x-python",
   "name": "python",
   "nbconvert_exporter": "python",
   "pygments_lexer": "ipython3",
   "version": "3.9.2"
  },
  "orig_nbformat": 4
 },
 "nbformat": 4,
 "nbformat_minor": 2
}
