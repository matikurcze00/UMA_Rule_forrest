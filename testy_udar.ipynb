{
 "cells": [
  {
   "cell_type": "code",
   "execution_count": 19,
   "metadata": {},
   "outputs": [
    {
     "name": "stdout",
     "output_type": "stream",
     "text": [
      "10\n",
      "[['Male', 'Female'], ['0', '8', '16', '24', '32', '40', '48', '56', '64', '72'], ['0', '1'], ['0', '1'], ['Yes', 'No'], ['Private', 'Self-employed', 'children', 'Govt_job', 'Never_worked'], ['Urban', 'Rural'], ['0', '60', '85', '110', '135', '160', '185', '210', '235', '260'], ['0', '10', '20', '30', '40', '50', '60', '70', '80', '90'], ['never smoked', 'smokes', 'formerly smoked']]\n",
      "3425\n",
      "3425\n",
      "True\n",
      "False\n"
     ]
    }
   ],
   "source": [
    "import csv\n",
    "import random\n",
    "\n",
    "kompleks_ogolny = []\n",
    "with open('kompleks_ogolny_udar.csv', newline='') as csvfile:\n",
    "    reader = csv.reader(csvfile)\n",
    "    for row in reader:\n",
    "        kompleks_ogolny.append(row)\n",
    "print(len(kompleks_ogolny))\n",
    "print(kompleks_ogolny)\n",
    "\n",
    "\n",
    "training_data = []\n",
    "lista_przedzialy = [0, 1, 0, 0, 0, 0, 0, 1, 1, 0]\n",
    "f = open('udar_poprawione.csv', 'w', newline='')\n",
    "writer = csv.writer(f)\n",
    "with open('healthcare-dataset-stroke-data.csv', newline='') as csvfile:\n",
    "# with open('udar_poprawione.csv', newline='') as csvfile:\n",
    "    reader = csv.reader(csvfile)\n",
    "    for row in reader:\n",
    "        row.pop(0)\n",
    "        temp = row[-1]\n",
    "        row.pop(-1)\n",
    "        row.append(int(temp))\n",
    "        if row[0] == 'Other':\n",
    "            continue\n",
    "        if row[8] == 'N/A':\n",
    "            continue\n",
    "        if row[9] == 'Unknown':\n",
    "            continue\n",
    "        for i, selektor in enumerate(kompleks_ogolny):\n",
    "            if lista_przedzialy[i]:\n",
    "                zmienna = ''\n",
    "                for j, wartosc in enumerate(selektor):\n",
    "                    if float(row[i]) < float(wartosc):\n",
    "                        zmienna = selektor[j-1]\n",
    "                        break\n",
    "                    else:\n",
    "                        zmienna = wartosc\n",
    "                row[i] = zmienna\n",
    "        training_data.append(row)\n",
    "        writer.writerow(row)\n",
    "f.close()\n",
    "print(len(training_data))\n",
    "\n",
    "training_data_2 = []\n",
    "with open('udar_poprawione.csv', newline='') as csvfile:\n",
    "    reader = csv.reader(csvfile)\n",
    "    for row in reader:\n",
    "        temp = row[-1]\n",
    "        row.pop(-1)\n",
    "        row.append(int(temp))\n",
    "        training_data_2.append(row)\n",
    "print(len(training_data_2))\n",
    "\n",
    "print(training_data == training_data_2)\n",
    "random.shuffle(training_data_2)\n",
    "print(training_data == training_data_2)\n",
    "\n",
    "train_data = []\n",
    "test_data = []\n",
    "poz_train = 0\n",
    "poz_test = 0\n",
    "for i, data in enumerate(training_data_2):\n",
    "    if i % 10 == 3 or i % 10 == 6:\n",
    "        test_data.append(data)\n",
    "        poz_test += data[-1]\n",
    "    else:\n",
    "        train_data.append(data)\n",
    "        poz_train += data[-1]\n",
    "\n",
    "testing_data = test_data\n",
    "training_data = train_data"
   ]
  },
  {
   "cell_type": "code",
   "execution_count": 20,
   "metadata": {},
   "outputs": [
    {
     "name": "stdout",
     "output_type": "stream",
     "text": [
      "['Female', '16', '0', '0', 'No', 'Private', 'Rural', '60', '20', 'formerly smoked', 0]\n"
     ]
    }
   ],
   "source": [
    "from reguly import RegDrzewo, Zbior_Regul, RegLas, dokladnosc\n",
    "from reguly import skroc_kompleks_ogolny\n",
    "from reguly import rozszerz_kompleks\n",
    "\n",
    "print(training_data[1])"
   ]
  },
  {
   "cell_type": "code",
   "execution_count": 21,
   "metadata": {},
   "outputs": [
    {
     "ename": "KeyboardInterrupt",
     "evalue": "",
     "output_type": "error",
     "traceback": [
      "\u001b[1;31m---------------------------------------------------------------------------\u001b[0m",
      "\u001b[1;31mKeyboardInterrupt\u001b[0m                         Traceback (most recent call last)",
      "Input \u001b[1;32mIn [21]\u001b[0m, in \u001b[0;36m<module>\u001b[1;34m\u001b[0m\n\u001b[1;32m----> 1\u001b[0m nowy_zbior \u001b[38;5;241m=\u001b[39m \u001b[43mZbior_Regul\u001b[49m\u001b[43m(\u001b[49m\u001b[43mtraining_data\u001b[49m\u001b[43m,\u001b[49m\u001b[43mkompleks_ogolny\u001b[49m\u001b[43m,\u001b[49m\u001b[43m[\u001b[49m\u001b[38;5;241;43m0\u001b[39;49m\u001b[43m,\u001b[49m\u001b[38;5;241;43m1\u001b[39;49m\u001b[43m,\u001b[49m\u001b[43m \u001b[49m\u001b[38;5;241;43m2\u001b[39;49m\u001b[43m,\u001b[49m\u001b[43m \u001b[49m\u001b[38;5;241;43m3\u001b[39;49m\u001b[43m,\u001b[49m\u001b[43m \u001b[49m\u001b[38;5;241;43m4\u001b[39;49m\u001b[43m,\u001b[49m\u001b[43m \u001b[49m\u001b[38;5;241;43m5\u001b[39;49m\u001b[43m,\u001b[49m\u001b[38;5;241;43m6\u001b[39;49m\u001b[43m,\u001b[49m\u001b[38;5;241;43m7\u001b[39;49m\u001b[43m,\u001b[49m\u001b[38;5;241;43m8\u001b[39;49m\u001b[43m,\u001b[49m\u001b[38;5;241;43m9\u001b[39;49m\u001b[43m]\u001b[49m\u001b[43m)\u001b[49m\n",
      "File \u001b[1;32mc:\\Users\\tumia\\OneDrive\\Desktop\\UMA20\\UMA_Rule_forrest\\reguly.py:189\u001b[0m, in \u001b[0;36mZbior_Regul.__init__\u001b[1;34m(self, zbior_T, kompleks_ogolny, header, mmm)\u001b[0m\n\u001b[0;32m    188\u001b[0m \u001b[38;5;28;01mdef\u001b[39;00m \u001b[38;5;21m__init__\u001b[39m(\u001b[38;5;28mself\u001b[39m, zbior_T, kompleks_ogolny, header, mmm\u001b[38;5;241m=\u001b[39m\u001b[38;5;241m5\u001b[39m):\n\u001b[1;32m--> 189\u001b[0m     \u001b[38;5;28mself\u001b[39m\u001b[38;5;241m.\u001b[39mzbior_Regul \u001b[38;5;241m=\u001b[39m \u001b[43msekwencyjne_pokrywanie\u001b[49m\u001b[43m(\u001b[49m\u001b[43mzbior_T\u001b[49m\u001b[43m,\u001b[49m\u001b[43m \u001b[49m\u001b[43mskroc_kompleks_ogolny\u001b[49m\u001b[43m(\u001b[49m\u001b[43mkompleks_ogolny\u001b[49m\u001b[43m,\u001b[49m\u001b[43m \u001b[49m\u001b[43mheader\u001b[49m\u001b[43m)\u001b[49m\u001b[43m,\u001b[49m\u001b[43m \u001b[49m\u001b[43mkompleks_ogolny\u001b[49m\u001b[43m,\u001b[49m\u001b[43m \u001b[49m\u001b[43mheader\u001b[49m\u001b[43m,\u001b[49m\u001b[43m \u001b[49m\u001b[43mmm\u001b[49m\u001b[38;5;241;43m=\u001b[39;49m\u001b[43mmmm\u001b[49m\u001b[43m)\u001b[49m\n\u001b[0;32m    190\u001b[0m     \u001b[38;5;28mself\u001b[39m\u001b[38;5;241m.\u001b[39mkompleks_ogolny \u001b[38;5;241m=\u001b[39m kompleks_ogolny\n",
      "File \u001b[1;32mc:\\Users\\tumia\\OneDrive\\Desktop\\UMA20\\UMA_Rule_forrest\\reguly.py:180\u001b[0m, in \u001b[0;36msekwencyjne_pokrywanie\u001b[1;34m(zbior_T, kompleks_ogolny_skrocony, kompleks_ogolny, header, mm)\u001b[0m\n\u001b[0;32m    178\u001b[0m zbior_atom \u001b[38;5;241m=\u001b[39m utworz_kompleksy_atomowe(kompleks_ogolny_skrocony)\n\u001b[0;32m    179\u001b[0m \u001b[38;5;28;01mwhile\u001b[39;00m zbior_P \u001b[38;5;241m!=\u001b[39m []:\n\u001b[1;32m--> 180\u001b[0m     kompleks \u001b[38;5;241m=\u001b[39m \u001b[43mznajdz_kompleks_cn2\u001b[49m\u001b[43m(\u001b[49m\u001b[43mzbior_T\u001b[49m\u001b[43m,\u001b[49m\u001b[43m \u001b[49m\u001b[43mzbior_P\u001b[49m\u001b[43m,\u001b[49m\u001b[43m \u001b[49m\u001b[43mzbior_atom\u001b[49m\u001b[43m,\u001b[49m\u001b[43m \u001b[49m\u001b[43mkompleks_ogolny_skrocony\u001b[49m\u001b[43m,\u001b[49m\u001b[43m  \u001b[49m\u001b[43mm\u001b[49m\u001b[38;5;241;43m=\u001b[39;49m\u001b[43mmm\u001b[49m\u001b[43m)\u001b[49m\n\u001b[0;32m    181\u001b[0m     [_, _, klasa] \u001b[38;5;241m=\u001b[39m liczba_przykladow_pokrywanych_przez_kompleks(zbior_P, kompleks)\n\u001b[0;32m    182\u001b[0m     zbior_Regul\u001b[38;5;241m.\u001b[39mappend((rozszerz_kompleks(kompleks, kompleks_ogolny, header), klasa))\n",
      "File \u001b[1;32mc:\\Users\\tumia\\OneDrive\\Desktop\\UMA20\\UMA_Rule_forrest\\reguly.py:131\u001b[0m, in \u001b[0;36mznajdz_kompleks_cn2\u001b[1;34m(z_T, z_P, zbior_atomowych, kompleks_ogolny, m)\u001b[0m\n\u001b[0;32m    129\u001b[0m S_zapas \u001b[38;5;241m=\u001b[39m [i \u001b[38;5;28;01mfor\u001b[39;00m i \u001b[38;5;129;01min\u001b[39;00m S_zapas \u001b[38;5;28;01mif\u001b[39;00m i \u001b[38;5;129;01mnot\u001b[39;00m \u001b[38;5;129;01min\u001b[39;00m [[[], [], [], [], [], [], [], [], [], [], [], []]]]\n\u001b[0;32m    130\u001b[0m \u001b[38;5;28;01mfor\u001b[39;00m kompleks \u001b[38;5;129;01min\u001b[39;00m S_zapas:\n\u001b[1;32m--> 131\u001b[0m     \u001b[38;5;28;01mif\u001b[39;00m \u001b[43mjakosc_kompleksu_na_zbiorze\u001b[49m\u001b[43m(\u001b[49m\u001b[43mkompleks\u001b[49m\u001b[43m,\u001b[49m\u001b[43m \u001b[49m\u001b[43mz_P\u001b[49m\u001b[43m)\u001b[49m \u001b[38;5;241m>\u001b[39m jakosc_kompleksu_na_zbiorze(k_wybrany, z_P):\n\u001b[0;32m    132\u001b[0m         \u001b[38;5;66;03m# if czy_kompleks_statystycznie_istotny(kompleks, z_P):\u001b[39;00m\n\u001b[0;32m    133\u001b[0m             k_wybrany \u001b[38;5;241m=\u001b[39m copy\u001b[38;5;241m.\u001b[39mcopy(kompleks)\n\u001b[0;32m    134\u001b[0m S_zapas\u001b[38;5;241m.\u001b[39msort(reverse\u001b[38;5;241m=\u001b[39m\u001b[38;5;28;01mTrue\u001b[39;00m, key\u001b[38;5;241m=\u001b[39mjakosc)\n",
      "File \u001b[1;32mc:\\Users\\tumia\\OneDrive\\Desktop\\UMA20\\UMA_Rule_forrest\\reguly.py:97\u001b[0m, in \u001b[0;36mjakosc_kompleksu_na_zbiorze\u001b[1;34m(kompleks, zbior_przykladow, m, liczebnosc_C)\u001b[0m\n\u001b[0;32m     96\u001b[0m \u001b[38;5;28;01mdef\u001b[39;00m \u001b[38;5;21mjakosc_kompleksu_na_zbiorze\u001b[39m(kompleks, zbior_przykladow, m\u001b[38;5;241m=\u001b[39m\u001b[38;5;241m2\u001b[39m, liczebnosc_C\u001b[38;5;241m=\u001b[39m\u001b[38;5;241m2\u001b[39m):\n\u001b[1;32m---> 97\u001b[0m     [liczba_przyk_pok, liczba_przyk_o_k_d, _] \u001b[38;5;241m=\u001b[39m \u001b[43mliczba_przykladow_pokrywanych_przez_kompleks\u001b[49m\u001b[43m(\u001b[49m\u001b[43mzbior_przykladow\u001b[49m\u001b[43m,\u001b[49m\u001b[43m \u001b[49m\u001b[43mkompleks\u001b[49m\u001b[43m)\u001b[49m\n\u001b[0;32m     98\u001b[0m     \u001b[38;5;28;01mreturn\u001b[39;00m (liczba_przyk_o_k_d \u001b[38;5;241m+\u001b[39m (m\u001b[38;5;241m/\u001b[39mliczebnosc_C))\u001b[38;5;241m/\u001b[39m(liczba_przyk_pok \u001b[38;5;241m+\u001b[39m m)\n",
      "File \u001b[1;32mc:\\Users\\tumia\\OneDrive\\Desktop\\UMA20\\UMA_Rule_forrest\\reguly.py:72\u001b[0m, in \u001b[0;36mliczba_przykladow_pokrywanych_przez_kompleks\u001b[1;34m(zbior_przykladow, kompleks)\u001b[0m\n\u001b[0;32m     70\u001b[0m klasa \u001b[38;5;241m=\u001b[39m \u001b[38;5;241m1\u001b[39m\n\u001b[0;32m     71\u001b[0m \u001b[38;5;28;01mfor\u001b[39;00m przyklad \u001b[38;5;129;01min\u001b[39;00m zbior_przykladow:\n\u001b[1;32m---> 72\u001b[0m     \u001b[38;5;28;01mif\u001b[39;00m \u001b[43mczy_kompleks_pokrywa_przyklad\u001b[49m\u001b[43m(\u001b[49m\u001b[43mkompleks\u001b[49m\u001b[43m,\u001b[49m\u001b[43m \u001b[49m\u001b[43mprzyklad\u001b[49m\u001b[43m)\u001b[49m:\n\u001b[0;32m     73\u001b[0m         liczba \u001b[38;5;241m+\u001b[39m\u001b[38;5;241m=\u001b[39m \u001b[38;5;241m1\u001b[39m\n\u001b[0;32m     74\u001b[0m         liczba_o_klasie_dom \u001b[38;5;241m+\u001b[39m\u001b[38;5;241m=\u001b[39m przyklad[\u001b[38;5;28mlen\u001b[39m(przyklad)\u001b[38;5;241m-\u001b[39m\u001b[38;5;241m1\u001b[39m]\n",
      "File \u001b[1;32mc:\\Users\\tumia\\OneDrive\\Desktop\\UMA20\\UMA_Rule_forrest\\reguly.py:61\u001b[0m, in \u001b[0;36mczy_kompleks_pokrywa_przyklad\u001b[1;34m(kompleks, przyklad)\u001b[0m\n\u001b[0;32m     59\u001b[0m \u001b[38;5;28;01mif\u001b[39;00m selektor \u001b[38;5;129;01mnot\u001b[39;00m \u001b[38;5;129;01min\u001b[39;00m kompleks[i]:\n\u001b[0;32m     60\u001b[0m     \u001b[38;5;28;01mreturn\u001b[39;00m \u001b[38;5;28;01mFalse\u001b[39;00m\n\u001b[1;32m---> 61\u001b[0m i \u001b[38;5;241m+\u001b[39m\u001b[38;5;241m=\u001b[39m \u001b[38;5;241m1\u001b[39m\n\u001b[0;32m     62\u001b[0m \u001b[38;5;28;01mif\u001b[39;00m i \u001b[38;5;241m==\u001b[39m \u001b[38;5;28mlen\u001b[39m(przyklad) \u001b[38;5;241m-\u001b[39m \u001b[38;5;241m1\u001b[39m:\n\u001b[0;32m     63\u001b[0m     \u001b[38;5;28;01mbreak\u001b[39;00m\n",
      "\u001b[1;31mKeyboardInterrupt\u001b[0m: "
     ]
    }
   ],
   "source": [
    "nowy_zbior = Zbior_Regul(training_data,kompleks_ogolny,[0,1, 2, 3, 4, 5,6,7,8,9])"
   ]
  },
  {
   "cell_type": "code",
   "execution_count": null,
   "metadata": {},
   "outputs": [
    {
     "name": "stdout",
     "output_type": "stream",
     "text": [
      "['65', '1', '0', '138', '205', '0', '0', '126', '1', '1', '1', '2', 0]\n",
      "0\n",
      "11\n"
     ]
    }
   ],
   "source": [
    "print(training_data[20])\n",
    "print(nowy_zbior.klasyfikacja(training_data[20]))\n",
    "print((len(nowy_zbior.zbior_Regul)))"
   ]
  },
  {
   "cell_type": "code",
   "execution_count": null,
   "metadata": {},
   "outputs": [],
   "source": [
    "nowy_las = RegLas(training_data,kompleks_ogolny,50)"
   ]
  },
  {
   "cell_type": "code",
   "execution_count": null,
   "metadata": {},
   "outputs": [
    {
     "name": "stdout",
     "output_type": "stream",
     "text": [
      "['48', '1', '2', '160', '247', '0', '1', '150', '0', '1', '0', '2', 0]\n",
      "1\n"
     ]
    }
   ],
   "source": [
    "print(testing_data[20])\n",
    "print(nowy_las.klasyfikacja(testing_data[20]))"
   ]
  },
  {
   "cell_type": "code",
   "execution_count": null,
   "metadata": {},
   "outputs": [
    {
     "name": "stdout",
     "output_type": "stream",
     "text": [
      "94.11764705882354\n",
      "100.0\n"
     ]
    }
   ],
   "source": [
    "dokladnosc(nowy_las,training_data,kompleks_ogolny)\n",
    "dokladnosc(nowy_zbior,training_data,kompleks_ogolny)"
   ]
  },
  {
   "cell_type": "code",
   "execution_count": null,
   "metadata": {},
   "outputs": [],
   "source": [
    "dokladnosc(nowy_las,test_data,kompleks_ogolny)\n",
    "dokladnosc(nowy_zbior,test_data,kompleks_ogolny)"
   ]
  }
 ],
 "metadata": {
  "interpreter": {
   "hash": "9bf2ca0f4a7adc3ce2f237ca763c1538d3ef289a4e7face3612a01cdae9f6807"
  },
  "kernelspec": {
   "display_name": "Python 3.10.1 64-bit",
   "language": "python",
   "name": "python3"
  },
  "language_info": {
   "codemirror_mode": {
    "name": "ipython",
    "version": 3
   },
   "file_extension": ".py",
   "mimetype": "text/x-python",
   "name": "python",
   "nbconvert_exporter": "python",
   "pygments_lexer": "ipython3",
   "version": "3.9.2"
  },
  "orig_nbformat": 4
 },
 "nbformat": 4,
 "nbformat_minor": 2
}
