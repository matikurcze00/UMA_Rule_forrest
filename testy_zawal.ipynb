{
 "cells": [
  {
   "cell_type": "code",
   "execution_count": 60,
   "metadata": {},
   "outputs": [
    {
     "name": "stdout",
     "output_type": "stream",
     "text": [
      "13\n",
      "[['0', '35', '45', '53', '62', '67'], ['0', '1'], ['0', '1', '2', '3'], ['0', '100', '120', '135', '155', '175'], ['0', '170', '220', '260', '280', '320'], ['0', '1'], ['0', '1', '2'], ['0', '110', '145', '160', '175'], ['0', '1'], ['0', '0.3', '0.6', '1.2', '1.8', '3.1'], ['0', '1', '2'], ['0', '1', '2', '3', '4'], ['0', '1', '2', '3']]\n"
     ]
    }
   ],
   "source": [
    "import csv\n",
    "import random\n",
    "\n",
    "kompleks_ogolny = []\n",
    "with open('ZAWAL/kompleks_ogolny_zawal.csv', newline='') as csvfile:\n",
    "    reader = csv.reader(csvfile)\n",
    "    for row in reader:\n",
    "        kompleks_ogolny.append(row)\n",
    "print(len(kompleks_ogolny))\n",
    "print(kompleks_ogolny)"
   ]
  },
  {
   "cell_type": "code",
   "execution_count": 61,
   "metadata": {},
   "outputs": [
    {
     "name": "stdout",
     "output_type": "stream",
     "text": [
      "212\n"
     ]
    }
   ],
   "source": [
    "training_data = []\n",
    "with open('ZAWAL/zawal_training.csv', newline='') as csvfile:\n",
    "    reader = csv.reader(csvfile)\n",
    "    for row in reader:\n",
    "        temp = row[-1]\n",
    "        row.pop(-1)\n",
    "        row.append(int(temp))\n",
    "        training_data.append(row)\n",
    "print(len(training_data))"
   ]
  },
  {
   "cell_type": "code",
   "execution_count": 62,
   "metadata": {},
   "outputs": [
    {
     "name": "stdout",
     "output_type": "stream",
     "text": [
      "91\n"
     ]
    }
   ],
   "source": [
    "testing_data = []\n",
    "with open('ZAWAL/zawal_test.csv', newline='') as csvfile:\n",
    "    reader = csv.reader(csvfile)\n",
    "    for row in reader:\n",
    "        temp = row[-1]\n",
    "        row.pop(-1)\n",
    "        row.append(int(temp))\n",
    "        testing_data.append(row)\n",
    "print(len(testing_data))"
   ]
  },
  {
   "cell_type": "code",
   "execution_count": 66,
   "metadata": {},
   "outputs": [
    {
     "name": "stdout",
     "output_type": "stream",
     "text": [
      "['53', '1', '0', '135', '220', '0', '0', '110', '1', '0', '2', '0', '3', 1]\n"
     ]
    }
   ],
   "source": [
    "from reguly import RegDrzewo, Zbior_Regul, RegLas\n",
    "from reguly import skroc_kompleks_ogolny\n",
    "from reguly import rozszerz_kompleks\n",
    "from testowania import dokladnosc, dane_statystyczne\n",
    "\n",
    "print(training_data[1])\n",
    "n = 100"
   ]
  },
  {
   "cell_type": "code",
   "execution_count": 64,
   "metadata": {},
   "outputs": [],
   "source": [
    "nowy_zbior = Zbior_Regul(training_data, kompleks_ogolny, [0, 1, 2, 3, 4, 5, 6, 7, 8, 9, 10, 11, 12],mmm=5)"
   ]
  },
  {
   "cell_type": "code",
   "execution_count": 25,
   "metadata": {},
   "outputs": [
    {
     "name": "stdout",
     "output_type": "stream",
     "text": [
      "['53', '1', '2', '120', '213', '1', '0', '160', '0', '0', '2', '3', '2', 1]\n",
      "1\n",
      "1\n"
     ]
    }
   ],
   "source": [
    "print(training_data[20])\n",
    "print(nowy_zbior.klasyfikacja(training_data[20]))\n",
    "print(len(nowy_zbior.zbior_Regul))\n",
    "print(nowy_zbior.zbior_Regul)"
   ]
  },
  {
   "cell_type": "code",
   "execution_count": 77,
   "metadata": {},
   "outputs": [],
   "source": [
    "nowy_las = RegLas(training_data,kompleks_ogolny,50,RegLasM=5)"
   ]
  },
  {
   "cell_type": "code",
   "execution_count": 78,
   "metadata": {},
   "outputs": [
    {
     "name": "stdout",
     "output_type": "stream",
     "text": [
      "['53', '1', '0', '135', '170', '0', '1', '110', '1', '3.1', '0', '0', '3', 0]\n",
      "1\n"
     ]
    }
   ],
   "source": [
    "print(testing_data[20])\n",
    "print(nowy_las.klasyfikacja(testing_data[20]))"
   ]
  },
  {
   "cell_type": "code",
   "execution_count": 70,
   "metadata": {},
   "outputs": [],
   "source": [
    "from testowania import dokladnosc, dane_statystyczne\n"
   ]
  },
  {
   "cell_type": "code",
   "execution_count": 79,
   "metadata": {},
   "outputs": [
    {
     "name": "stdout",
     "output_type": "stream",
     "text": [
      "54.716981132075475\n",
      "54.716981132075475\n"
     ]
    }
   ],
   "source": [
    "dokladnosc(nowy_las,training_data,kompleks_ogolny)\n",
    "dokladnosc(nowy_zbior,training_data,kompleks_ogolny)"
   ]
  },
  {
   "cell_type": "code",
   "execution_count": 80,
   "metadata": {},
   "outputs": [
    {
     "name": "stdout",
     "output_type": "stream",
     "text": [
      "53.84615384615385\n",
      "53.84615384615385\n"
     ]
    }
   ],
   "source": [
    "dokladnosc(nowy_las,testing_data,kompleks_ogolny)\n",
    "dokladnosc(nowy_zbior,testing_data,kompleks_ogolny)"
   ]
  },
  {
   "cell_type": "code",
   "execution_count": 81,
   "metadata": {},
   "outputs": [
    {
     "name": "stdout",
     "output_type": "stream",
     "text": [
      "_______TPR FPR_______\n",
      "Lasu:\n",
      "TPR:\n",
      "1.0\n",
      "FPR:\n",
      "1.0\n",
      "Precyzja:\n",
      "0.5471698113207547\n",
      "Zbioru Regul:\n",
      "TPR:\n",
      "1.0\n",
      "FPR:\n",
      "1.0\n",
      "Precyzja:\n",
      "0.5471698113207547\n"
     ]
    }
   ],
   "source": [
    "print('_______TPR FPR_______')\n",
    "print('Lasu:')\n",
    "[TPR_lasu, FPR_lasu, Precyzja_lasu] = dane_statystyczne(nowy_las, training_data, kompleks_ogolny)\n",
    "print('TPR:')\n",
    "print(TPR_lasu)\n",
    "print('FPR:')\n",
    "print(FPR_lasu)\n",
    "print('Precyzja:')\n",
    "print(Precyzja_lasu)\n",
    "print('Zbioru Regul:')\n",
    "[TPR_regul, FPR_regul, Precyzja_regul] = dane_statystyczne(nowy_zbior,training_data,kompleks_ogolny)\n",
    "print('TPR:')\n",
    "print(TPR_regul)\n",
    "print('FPR:')\n",
    "print(FPR_regul)\n",
    "print('Precyzja:')\n",
    "print(Precyzja_regul)"
   ]
  },
  {
   "cell_type": "code",
   "execution_count": 32,
   "metadata": {},
   "outputs": [
    {
     "name": "stdout",
     "output_type": "stream",
     "text": [
      "_______TPR FPR_______\n",
      "Lasu:\n",
      "TPR:\n",
      "1.0\n",
      "FPR:\n",
      "1.0\n",
      "Precyzja:\n",
      "0.4945054945054945\n",
      "Zbioru Regul:\n",
      "TPR:\n",
      "1.0\n",
      "FPR:\n",
      "1.0\n",
      "Precyzja:\n",
      "0.4945054945054945\n"
     ]
    }
   ],
   "source": [
    "print('_______TPR FPR_______')\n",
    "print('Lasu:')\n",
    "[TPR_lasu, FPR_lasu, Precyzja_lasu] = dane_statystyczne(nowy_las, testing_data, kompleks_ogolny)\n",
    "print('TPR:')\n",
    "print(TPR_lasu)\n",
    "print('FPR:')\n",
    "print(FPR_lasu)\n",
    "print('Precyzja:')\n",
    "print(Precyzja_lasu)\n",
    "print('Zbioru Regul:')\n",
    "[TPR_regul, FPR_regul, Precyzja_regul] = dane_statystyczne(nowy_zbior,testing_data,kompleks_ogolny)\n",
    "print('TPR:')\n",
    "print(TPR_regul)\n",
    "print('FPR:')\n",
    "print(FPR_regul)\n",
    "print('Precyzja:')\n",
    "print(Precyzja_regul)"
   ]
  }
 ],
 "metadata": {
  "interpreter": {
   "hash": "9bf2ca0f4a7adc3ce2f237ca763c1538d3ef289a4e7face3612a01cdae9f6807"
  },
  "kernelspec": {
   "display_name": "Python 3.10.1 64-bit",
   "language": "python",
   "name": "python3"
  },
  "language_info": {
   "codemirror_mode": {
    "name": "ipython",
    "version": 3
   },
   "file_extension": ".py",
   "mimetype": "text/x-python",
   "name": "python",
   "nbconvert_exporter": "python",
   "pygments_lexer": "ipython3",
   "version": "3.9.2"
  },
  "orig_nbformat": 4
 },
 "nbformat": 4,
 "nbformat_minor": 2
}
