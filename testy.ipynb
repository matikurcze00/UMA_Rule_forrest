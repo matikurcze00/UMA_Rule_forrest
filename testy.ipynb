{
 "cells": [
  {
   "cell_type": "code",
   "execution_count": 123,
   "metadata": {},
   "outputs": [
    {
     "name": "stdout",
     "output_type": "stream",
     "text": [
      "101\n"
     ]
    }
   ],
   "source": [
    "import csv\n",
    "training_data = []\n",
    "with open('heart_train.csv', newline='') as csvfile:\n",
    "    reader = csv.reader(csvfile)\n",
    "    for row in reader:\n",
    "      temp = row[-1]\n",
    "      row.pop(-1)\n",
    "      row.append(int(temp))\n",
    "      training_data.append(row)\n",
    "print(len(training_data))"
   ]
  },
  {
   "cell_type": "code",
   "execution_count": 124,
   "metadata": {},
   "outputs": [
    {
     "name": "stdout",
     "output_type": "stream",
     "text": [
      "12\n"
     ]
    }
   ],
   "source": [
    "kompleks_ogolny = []\n",
    "with open('kompleks_ogolny.csv', newline='') as csvfile:\n",
    "    reader = csv.reader(csvfile)\n",
    "    for row in reader:\n",
    "      kompleks_ogolny.append(row)\n",
    "print(len(kompleks_ogolny))"
   ]
  },
  {
   "cell_type": "code",
   "execution_count": 30,
   "metadata": {},
   "outputs": [
    {
     "name": "stdout",
     "output_type": "stream",
     "text": [
      "202\n"
     ]
    }
   ],
   "source": [
    "testing_data = []\n",
    "with open('heart_test.csv', newline='') as csvfile:\n",
    "    reader = csv.reader(csvfile)\n",
    "\n",
    "    for row in reader:\n",
    "        testing_data.append(row)\n",
    "print(len(testing_data))"
   ]
  },
  {
   "cell_type": "code",
   "execution_count": 133,
   "metadata": {},
   "outputs": [
    {
     "name": "stdout",
     "output_type": "stream",
     "text": [
      "['59', '1', '0', '160', '205', '1', '0', '126', '0', '1', '2', '1', 0]\n"
     ]
    }
   ],
   "source": [
    "from reguly import RegDrzewo, Zbior_Regul, RegLas, dokladnosc\n",
    "from reguly import skroc_kompleks_ogolny\n",
    "from reguly import rozszerz_kompleks\n",
    "\n",
    "print(training_data[1])"
   ]
  },
  {
   "cell_type": "code",
   "execution_count": 134,
   "metadata": {},
   "outputs": [],
   "source": [
    "nowy_zbior = Zbior_Regul(training_data,kompleks_ogolny,[0,1, 2, 3, 4, 5,6,7,8,9,10,11])"
   ]
  },
  {
   "cell_type": "code",
   "execution_count": 136,
   "metadata": {},
   "outputs": [
    {
     "name": "stdout",
     "output_type": "stream",
     "text": [
      "['54', '1', '0', '128', '205', '0', '1', '126', '0', '1', '1', '3', 0]\n",
      "1\n",
      "1\n"
     ]
    }
   ],
   "source": [
    "print(training_data[10])\n",
    "print(nowy_zbior.klasyfikacja(training_data[10]))\n",
    "print((len(nowy_zbior.zbior_Regul)))"
   ]
  },
  {
   "cell_type": "code",
   "execution_count": 121,
   "metadata": {},
   "outputs": [],
   "source": [
    "nowy_las = RegLas(training_data,kompleks_ogolny,50)"
   ]
  },
  {
   "cell_type": "code",
   "execution_count": 103,
   "metadata": {},
   "outputs": [
    {
     "name": "stdout",
     "output_type": "stream",
     "text": [
      "['65', '0', '0', '160', '205', '0', '0', '150', '0', '0', '3', '3', 0]\n",
      "1\n"
     ]
    }
   ],
   "source": [
    "print(training_data[40])\n",
    "print(nowy_las.klasyfikacja(training_data[40]))"
   ]
  },
  {
   "cell_type": "code",
   "execution_count": 132,
   "metadata": {},
   "outputs": [
    {
     "name": "stdout",
     "output_type": "stream",
     "text": [
      "54.45544554455446\n",
      "54.45544554455446\n"
     ]
    }
   ],
   "source": [
    "dokladnosc(nowy_las,training_data,kompleks_ogolny)\n",
    "dokladnosc(nowy_zbior,training_data,kompleks_ogolny)"
   ]
  }
 ],
 "metadata": {
  "interpreter": {
   "hash": "9bf2ca0f4a7adc3ce2f237ca763c1538d3ef289a4e7face3612a01cdae9f6807"
  },
  "kernelspec": {
   "display_name": "Python 3.10.1 64-bit",
   "language": "python",
   "name": "python3"
  },
  "language_info": {
   "codemirror_mode": {
    "name": "ipython",
    "version": 3
   },
   "file_extension": ".py",
   "mimetype": "text/x-python",
   "name": "python",
   "nbconvert_exporter": "python",
   "pygments_lexer": "ipython3",
   "version": "3.10.1"
  },
  "orig_nbformat": 4
 },
 "nbformat": 4,
 "nbformat_minor": 2
}
