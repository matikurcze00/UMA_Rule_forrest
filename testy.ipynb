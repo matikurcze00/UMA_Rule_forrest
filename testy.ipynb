{
 "cells": [
  {
   "cell_type": "code",
   "execution_count": 24,
   "metadata": {},
   "outputs": [
    {
     "name": "stdout",
     "output_type": "stream",
     "text": [
      "101\n"
     ]
    }
   ],
   "source": [
    "import csv\n",
    "training_data = []\n",
    "with open('heart_train.csv', newline='') as csvfile:\n",
    "    reader = csv.reader(csvfile)\n",
    "    for row in reader:\n",
    "      temp = row[-1]\n",
    "      row.pop(-1)\n",
    "      row.append(int(temp))\n",
    "      training_data.append(row)\n",
    "print(len(training_data))"
   ]
  },
  {
   "cell_type": "code",
   "execution_count": 25,
   "metadata": {},
   "outputs": [
    {
     "name": "stdout",
     "output_type": "stream",
     "text": [
      "12\n"
     ]
    }
   ],
   "source": [
    "kompleks_ogolny = []\n",
    "with open('kompleks_ogolny.csv', newline='') as csvfile:\n",
    "    reader = csv.reader(csvfile)\n",
    "    for row in reader:\n",
    "      kompleks_ogolny.append(row)\n",
    "print(len(kompleks_ogolny))"
   ]
  },
  {
   "cell_type": "code",
   "execution_count": 37,
   "metadata": {},
   "outputs": [
    {
     "name": "stdout",
     "output_type": "stream",
     "text": [
      "['54', '1', '0', '128', '335', '0', '1', '126', '1', '1', '2', '3', 0]\n",
      "202\n"
     ]
    }
   ],
   "source": [
    "import csv\n",
    "testing_data = []\n",
    "with open('heart_test.csv', newline='') as csvfile:\n",
    "    reader = csv.reader(csvfile)\n",
    "    for row in reader:\n",
    "      temp = row[-1]\n",
    "      row.pop(-1)\n",
    "      row.append(int(temp))\n",
    "      testing_data.append(row)\n",
    "print(testing_data[1])\n",
    "print(len(testing_data))"
   ]
  },
  {
   "cell_type": "code",
   "execution_count": 27,
   "metadata": {},
   "outputs": [
    {
     "name": "stdout",
     "output_type": "stream",
     "text": [
      "['59', '1', '0', '160', '205', '1', '0', '126', '0', '1', '2', '1', 0]\n"
     ]
    }
   ],
   "source": [
    "from reguly import RegDrzewo, Zbior_Regul, RegLas, dokladnosc\n",
    "from reguly import skroc_kompleks_ogolny\n",
    "from reguly import rozszerz_kompleks\n",
    "\n",
    "print(training_data[1])"
   ]
  },
  {
   "cell_type": "code",
   "execution_count": 28,
   "metadata": {},
   "outputs": [],
   "source": [
    "nowy_zbior = Zbior_Regul(training_data,kompleks_ogolny,[0,1, 2, 3, 4, 5,6,7,8,9,10,11])"
   ]
  },
  {
   "cell_type": "code",
   "execution_count": 29,
   "metadata": {},
   "outputs": [
    {
     "name": "stdout",
     "output_type": "stream",
     "text": [
      "['54', '1', '0', '128', '205', '0', '1', '126', '0', '1', '1', '3', 0]\n",
      "0\n",
      "10\n"
     ]
    }
   ],
   "source": [
    "print(training_data[10])\n",
    "print(nowy_zbior.klasyfikacja(training_data[10]))\n",
    "print((len(nowy_zbior.zbior_Regul)))"
   ]
  },
  {
   "cell_type": "code",
   "execution_count": 30,
   "metadata": {},
   "outputs": [],
   "source": [
    "nowy_las = RegLas(training_data,kompleks_ogolny,50)"
   ]
  },
  {
   "cell_type": "code",
   "execution_count": 38,
   "metadata": {},
   "outputs": [
    {
     "name": "stdout",
     "output_type": "stream",
     "text": [
      "['48', '1', '0', '128', '205', '0', '0', '126', '1', '1', '0', '3', 0]\n",
      "0\n"
     ]
    }
   ],
   "source": [
    "print(testing_data[20])\n",
    "print(nowy_las.klasyfikacja(testing_data[20]))"
   ]
  },
  {
   "cell_type": "code",
   "execution_count": 41,
   "metadata": {},
   "outputs": [
    {
     "ename": "TypeError",
     "evalue": "unsupported operand type(s) for +=: 'int' and 'NoneType'",
     "output_type": "error",
     "traceback": [
      "\u001b[1;31m---------------------------------------------------------------------------\u001b[0m",
      "\u001b[1;31mTypeError\u001b[0m                                 Traceback (most recent call last)",
      "\u001b[1;32m~\\AppData\\Local\\Temp/ipykernel_2652/2105120632.py\u001b[0m in \u001b[0;36m<module>\u001b[1;34m\u001b[0m\n\u001b[1;32m----> 1\u001b[1;33m \u001b[0mdokladnosc\u001b[0m\u001b[1;33m(\u001b[0m\u001b[0mnowy_las\u001b[0m\u001b[1;33m,\u001b[0m\u001b[0mtesting_data\u001b[0m\u001b[1;33m,\u001b[0m\u001b[0mkompleks_ogolny\u001b[0m\u001b[1;33m)\u001b[0m\u001b[1;33m\u001b[0m\u001b[1;33m\u001b[0m\u001b[0m\n\u001b[0m\u001b[0;32m      2\u001b[0m \u001b[0mdokladnosc\u001b[0m\u001b[1;33m(\u001b[0m\u001b[0mnowy_zbior\u001b[0m\u001b[1;33m,\u001b[0m\u001b[0mtesting_data\u001b[0m\u001b[1;33m,\u001b[0m\u001b[0mkompleks_ogolny\u001b[0m\u001b[1;33m)\u001b[0m\u001b[1;33m\u001b[0m\u001b[1;33m\u001b[0m\u001b[0m\n",
      "\u001b[1;32mc:\\Users\\HP\\Desktop\\UMA\\UMA_Rule_forrest\\reguly.py\u001b[0m in \u001b[0;36mdokladnosc\u001b[1;34m(funkcja, zbior, kompleks_ogolny)\u001b[0m\n\u001b[0;32m    241\u001b[0m   \u001b[0mdobrze\u001b[0m \u001b[1;33m=\u001b[0m \u001b[1;36m0\u001b[0m\u001b[1;33m\u001b[0m\u001b[1;33m\u001b[0m\u001b[0m\n\u001b[0;32m    242\u001b[0m   \u001b[1;32mfor\u001b[0m \u001b[0mprzyklad\u001b[0m \u001b[1;32min\u001b[0m \u001b[0mzbior\u001b[0m\u001b[1;33m:\u001b[0m\u001b[1;33m\u001b[0m\u001b[1;33m\u001b[0m\u001b[0m\n\u001b[1;32m--> 243\u001b[1;33m     \u001b[1;32mif\u001b[0m\u001b[1;33m(\u001b[0m\u001b[0mprzyklad\u001b[0m\u001b[1;33m[\u001b[0m\u001b[0mnr_odpowiedzi\u001b[0m\u001b[1;33m]\u001b[0m\u001b[1;33m==\u001b[0m\u001b[0mfunkcja\u001b[0m\u001b[1;33m.\u001b[0m\u001b[0mklasyfikacja\u001b[0m\u001b[1;33m(\u001b[0m\u001b[0mprzyklad\u001b[0m\u001b[1;33m)\u001b[0m\u001b[1;33m)\u001b[0m\u001b[1;33m:\u001b[0m\u001b[1;33m\u001b[0m\u001b[1;33m\u001b[0m\u001b[0m\n\u001b[0m\u001b[0;32m    244\u001b[0m       \u001b[0mdobrze\u001b[0m \u001b[1;33m+=\u001b[0m\u001b[1;36m1\u001b[0m\u001b[1;33m\u001b[0m\u001b[1;33m\u001b[0m\u001b[0m\n\u001b[0;32m    245\u001b[0m   \u001b[0mprint\u001b[0m\u001b[1;33m(\u001b[0m\u001b[1;33m(\u001b[0m\u001b[0mdobrze\u001b[0m\u001b[1;33m*\u001b[0m\u001b[1;36m100\u001b[0m\u001b[1;33m/\u001b[0m\u001b[0mlen\u001b[0m\u001b[1;33m(\u001b[0m\u001b[0mzbior\u001b[0m\u001b[1;33m)\u001b[0m\u001b[1;33m)\u001b[0m\u001b[1;33m)\u001b[0m\u001b[1;33m\u001b[0m\u001b[1;33m\u001b[0m\u001b[0m\n",
      "\u001b[1;32mc:\\Users\\HP\\Desktop\\UMA\\UMA_Rule_forrest\\reguly.py\u001b[0m in \u001b[0;36mklasyfikacja\u001b[1;34m(self, przyklad)\u001b[0m\n\u001b[0;32m    231\u001b[0m     \u001b[0mwynik\u001b[0m \u001b[1;33m=\u001b[0m \u001b[1;36m0\u001b[0m\u001b[1;33m\u001b[0m\u001b[1;33m\u001b[0m\u001b[0m\n\u001b[0;32m    232\u001b[0m     \u001b[1;32mfor\u001b[0m \u001b[0mdrzewo\u001b[0m \u001b[1;32min\u001b[0m \u001b[0mself\u001b[0m\u001b[1;33m.\u001b[0m\u001b[0mlas\u001b[0m\u001b[1;33m:\u001b[0m\u001b[1;33m\u001b[0m\u001b[1;33m\u001b[0m\u001b[0m\n\u001b[1;32m--> 233\u001b[1;33m       \u001b[0mwynik\u001b[0m\u001b[1;33m+=\u001b[0m \u001b[0mdrzewo\u001b[0m\u001b[1;33m.\u001b[0m\u001b[0mklasyfikacja\u001b[0m\u001b[1;33m(\u001b[0m\u001b[0mprzyklad\u001b[0m\u001b[1;33m)\u001b[0m\u001b[1;33m\u001b[0m\u001b[1;33m\u001b[0m\u001b[0m\n\u001b[0m\u001b[0;32m    234\u001b[0m     \u001b[0mwynik\u001b[0m\u001b[1;33m=\u001b[0m\u001b[0mwynik\u001b[0m\u001b[1;33m/\u001b[0m\u001b[0mself\u001b[0m\u001b[1;33m.\u001b[0m\u001b[0mszerokosc\u001b[0m\u001b[1;33m\u001b[0m\u001b[1;33m\u001b[0m\u001b[0m\n\u001b[0;32m    235\u001b[0m     \u001b[1;32mif\u001b[0m \u001b[1;33m(\u001b[0m\u001b[0mwynik\u001b[0m\u001b[1;33m>\u001b[0m\u001b[1;36m0.5\u001b[0m\u001b[1;33m)\u001b[0m\u001b[1;33m:\u001b[0m\u001b[1;33m\u001b[0m\u001b[1;33m\u001b[0m\u001b[0m\n",
      "\u001b[1;31mTypeError\u001b[0m: unsupported operand type(s) for +=: 'int' and 'NoneType'"
     ]
    }
   ],
   "source": [
    "dokladnosc(nowy_las,training_data,kompleks_ogolny)\n",
    "dokladnosc(nowy_zbior,training_data,kompleks_ogolny)"
   ]
  }
 ],
 "metadata": {
  "interpreter": {
   "hash": "9bf2ca0f4a7adc3ce2f237ca763c1538d3ef289a4e7face3612a01cdae9f6807"
  },
  "kernelspec": {
   "display_name": "Python 3.10.1 64-bit",
   "language": "python",
   "name": "python3"
  },
  "language_info": {
   "codemirror_mode": {
    "name": "ipython",
    "version": 3
   },
   "file_extension": ".py",
   "mimetype": "text/x-python",
   "name": "python",
   "nbconvert_exporter": "python",
   "pygments_lexer": "ipython3",
   "version": "3.10.1"
  },
  "orig_nbformat": 4
 },
 "nbformat": 4,
 "nbformat_minor": 2
}
